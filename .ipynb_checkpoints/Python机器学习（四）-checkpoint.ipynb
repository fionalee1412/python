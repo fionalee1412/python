{
 "cells": [
  {
   "cell_type": "code",
   "execution_count": 2,
   "metadata": {},
   "outputs": [
    {
     "data": {
      "text/html": [
       "<button onclick=\"$('.input, .prompt, .output_stderr, .output_error').toggle();\">Toggle code</button>"
      ]
     },
     "metadata": {},
     "output_type": "display_data"
    },
    {
     "name": "stderr",
     "output_type": "stream",
     "text": [
      "c:\\python27\\lib\\site-packages\\sklearn\\cross_validation.py:41: DeprecationWarning: This module was deprecated in version 0.18 in favor of the model_selection module into which all the refactored classes and functions are moved. Also note that the interface of the new CV iterators are different from that of this module. This module will be removed in 0.20.\n",
      "  \"This module will be removed in 0.20.\", DeprecationWarning)\n",
      "c:\\python27\\lib\\site-packages\\sklearn\\grid_search.py:42: DeprecationWarning: This module was deprecated in version 0.18 in favor of the model_selection module into which all the refactored classes and functions are moved. This module will be removed in 0.20.\n",
      "  DeprecationWarning)\n",
      "c:\\python27\\lib\\site-packages\\sklearn\\learning_curve.py:22: DeprecationWarning: This module was deprecated in version 0.18 in favor of the model_selection module into which all the functions are moved. This module will be removed in 0.20\n",
      "  DeprecationWarning)\n"
     ]
    }
   ],
   "source": [
    "%matplotlib inline \n",
    "#有了matplotlib inline 就可以省掉plt.show()了\n",
    "%load_ext autoreload\n",
    "%autoreload 2\n",
    "\n",
    "from __future__ import division\n",
    "from imports import *\n",
    "#import pylab #使用pylab模式，可以直接使用numpy、pandas和绘图，而不需要再次引入,会配置为使用你所指定的matplotlib gui后端，还会提供一种更接近于matlab的界面\n",
    "#%pylab\n",
    "from IPython.display import display_html\n",
    "display_html(\"\"\"<button onclick=\"$('.input, .prompt, .output_stderr, .output_error').toggle();\">Toggle code</button>\"\"\", raw=True)\n",
    "# 允许多行输出\n",
    "from IPython.core.interactiveshell import InteractiveShell\n",
    "InteractiveShell.ast_node_interactivity = 'all'\n",
    "from sklearn import *\n",
    "from sklearn.model_selection import train_test_split\n",
    "from sklearn.model_selection import KFold\n",
    "from sklearn.model_selection import cross_val_score\n",
    "from sklearn.metrics import classification_report\n",
    "from sklearn.metrics import confusion_matrix\n",
    "from sklearn.metrics import accuracy_score\n",
    "from sklearn.linear_model import LogisticRegression\n",
    "from sklearn.tree import DecisionTreeClassifier\n",
    "from sklearn.discriminant_analysis import LinearDiscriminantAnalysis\n",
    "from sklearn.neighbors import KNeighborsClassifier\n",
    "from sklearn.naive_bayes import GaussianNB\n",
    "from sklearn.svm import SVC"
   ]
  },
  {
   "cell_type": "markdown",
   "metadata": {},
   "source": [
    "## 评估算法\n",
    "最好的评估办法是利用已经明确知道结果的数据运行生成的算法模型进行验证  "
   ]
  },
  {
   "cell_type": "markdown",
   "metadata": {},
   "source": [
    "#### 分离训练数据集和评估数据集\n",
    "通常会将67%的数据作为训练集，将33%的数据作为评估数据集"
   ]
  },
  {
   "cell_type": "code",
   "execution_count": 3,
   "metadata": {},
   "outputs": [
    {
     "data": {
      "text/plain": [
       "user_label_7day.fgamefsk            int64\n",
       "user_label_7day.fgamename          object\n",
       "user_label_7day.fplatformfsk        int64\n",
       "user_label_7day.fplatformname      object\n",
       "user_label_7day.fuid                int64\n",
       "user_label_7day.play_passion        int64\n",
       "user_label_7day.play_days           int64\n",
       "user_label_7day.play_duration       int64\n",
       "user_label_7day.play_innings        int64\n",
       "user_label_7day.pay_passion         int64\n",
       "user_label_7day.pay_sum           float64\n",
       "user_label_7day.pay_sum_usd       float64\n",
       "user_label_7day.pay_count           int64\n",
       "user_label_7day.match_passion       int64\n",
       "user_label_7day.match_duration      int64\n",
       "user_label_7day.match_innings       int64\n",
       "user_label_7day.dt                 object\n",
       "dtype: object"
      ]
     },
     "execution_count": 3,
     "metadata": {},
     "output_type": "execute_result"
    },
    {
     "data": {
      "text/plain": [
       "LogisticRegression(C=1.0, class_weight=None, dual=False, fit_intercept=True,\n",
       "          intercept_scaling=1, max_iter=100, multi_class='ovr', n_jobs=1,\n",
       "          penalty='l2', random_state=None, solver='liblinear', tol=0.0001,\n",
       "          verbose=0, warm_start=False)"
      ]
     },
     "execution_count": 3,
     "metadata": {},
     "output_type": "execute_result"
    },
    {
     "name": "stdout",
     "output_type": "stream",
     "text": [
      "算法评估结果：97.800%\n"
     ]
    }
   ],
   "source": [
    "from sklearn.model_selection import train_test_split\n",
    "from sklearn.linear_model import LogisticRegression\n",
    "filename = './csvs/user_label_7day_0301.csv'\n",
    "data = pd.read_csv(filename)\n",
    "data.dtypes\n",
    "# 将数据分为输入数据和输出结果\n",
    "array = data.values\n",
    "X = array[:,5:9].astype(np.int64)\n",
    "Y = array[:,9].astype(np.int64)\n",
    "test_size = 0.33\n",
    "seed = 4 # 随机的粒度\n",
    "X_train,X_test,Y_traing,Y_test = train_test_split(X,Y,test_size=test_size,random_state=seed)\n",
    "model = LogisticRegression()\n",
    "model.fit(X_train,Y_traing)\n",
    "result = model.score(X_test,Y_test)\n",
    "print(\"算法评估结果：%.3f%%\"% (result*100))"
   ]
  },
  {
   "cell_type": "markdown",
   "metadata": {},
   "source": [
    "#### K折交叉验证分离\n",
    "交叉验证是用来验证分类器的性能的一种统计方法  \n",
    "在样本量不充足的情况下，将数据集A随机分成K个包，每次将其中一个包作为测试集，剩下的k-1个包作为训练集，通常K取3、5、10  \n",
    "不知道选啥的时候就选这个，然后用10折"
   ]
  },
  {
   "cell_type": "code",
   "execution_count": null,
   "metadata": {},
   "outputs": [],
   "source": [
    "from sklearn.model_selection import KFold\n",
    "from sklearn.model_selection import cross_val_score\n",
    "from sklearn.linear_model import LogisticRegression\n",
    "\n",
    "num_folds = 10\n",
    "seed = 7\n",
    "kfold = KFold(n_splits=num_folds,random_state=seed)\n",
    "model = LogisticRegression()\n",
    "result = cross_val_score(model,X,Y,cv=kfold)\n",
    "#print(\"算法评估结果：%.3f%%(%.3f%%)\" % (result.mean()*100,result.std()*100))"
   ]
  },
  {
   "cell_type": "markdown",
   "metadata": {},
   "source": [
    "## 算法评估矩阵 "
   ]
  },
  {
   "cell_type": "markdown",
   "metadata": {},
   "source": [
    "### 分类算法矩阵\n",
    "#### 分类准确度 \n",
    "= 分类正确的样本数/总样本数  \n",
    "#### 对数损失函数\n"
   ]
  },
  {
   "cell_type": "code",
   "execution_count": null,
   "metadata": {},
   "outputs": [],
   "source": [
    "scoring = 'neg_log_loss'\n",
    "result = cross_val_score(model,X,Y,cv=kfold,scoring=scoring)\n",
    "#print(\"Logloss：%.3f%%(%.3f%%)\" % (result.mean()*100,result.std()*100))"
   ]
  },
  {
   "cell_type": "markdown",
   "metadata": {},
   "source": [
    "#### AUC图\n",
    "ROC和AUC是评价分类器的指标。  \n",
    "ROC是（Receiver Operating Characteristic Curve），又称感受性曲线。他们都是对同一信号刺激的反应，只不过是在几种不同的判定标准下所得的结果而已。  \n",
    "AUC是ROC曲线下的面积，通常结余0.5~1.0之间，AUC的值越大，诊断准确性越高。"
   ]
  },
  {
   "cell_type": "code",
   "execution_count": null,
   "metadata": {},
   "outputs": [],
   "source": [
    "scoring = 'roc_auc'\n",
    "result = cross_val_score(model,X,Y,cv=kfold,scoring=scoring)\n",
    "#print(\"AUC：%.3f%%(%.3f%%)\" % (result.mean()*100,result.std()*100))"
   ]
  },
  {
   "cell_type": "markdown",
   "metadata": {},
   "source": [
    "#### 混淆矩阵（Cnfusion Matrix）\n",
    "特别适用于监督学习"
   ]
  },
  {
   "cell_type": "code",
   "execution_count": null,
   "metadata": {},
   "outputs": [],
   "source": [
    "from sklearn.metrics import confusion_matrix\n",
    "predicted = model.predict(X_test)\n",
    "matrix = confusion_matrix(Y_test,predicted)\n",
    "classes = ['0','1']\n",
    "dataframe = pd.DataFrame(data=matrix,index=classes,columns=classes)\n",
    "print dataframe"
   ]
  },
  {
   "cell_type": "code",
   "execution_count": null,
   "metadata": {},
   "outputs": [],
   "source": [
    "<img src='./1.png' />"
   ]
  },
  {
   "cell_type": "markdown",
   "metadata": {},
   "source": [
    "#### 分类报告\n",
    "在scikit-learn中，Classification_report()方法能够给出精确率（precision）、召回率（recall）、F1值（F1-score）和样本数目（support）  \n",
    "精确率的公式 $P=\\frac{TP}{TP+FP}$  \n",
    "召回率的公式，$R=\\frac{TP}{TP+FN}$  \n",
    "$F_1=\\frac{P+R}2$"
   ]
  },
  {
   "cell_type": "code",
   "execution_count": null,
   "metadata": {},
   "outputs": [],
   "source": [
    "from sklearn.metrics import classification_report\n",
    "report = classification_report(Y_test,predicted)"
   ]
  }
 ],
 "metadata": {
  "kernelspec": {
   "display_name": "Python 2",
   "language": "python",
   "name": "python2"
  },
  "language_info": {
   "codemirror_mode": {
    "name": "ipython",
    "version": 2
   },
   "file_extension": ".py",
   "mimetype": "text/x-python",
   "name": "python",
   "nbconvert_exporter": "python",
   "pygments_lexer": "ipython2",
   "version": "2.7.14"
  }
 },
 "nbformat": 4,
 "nbformat_minor": 2
}
