{
 "cells": [
  {
   "cell_type": "code",
   "execution_count": null,
   "metadata": {},
   "outputs": [],
   "source": []
  },
  {
   "cell_type": "markdown",
   "metadata": {},
   "source": [
    "#### 江苏省文化厅、省公安厅联合约谈棋牌类网络游戏企业\n",
    "6月7日，江苏省文化厅会同省公安厅在无锡召开网络游戏运营企业专项工作会议。省内40余家用户规模较大、经营游戏类型较多的网络游戏企业参加了会议。本次会议宣传解读网络游戏行业有关法律法规、政策文件及网络游戏业务风险点，特别是针对棋牌类网络游戏研发、运营中暴露出的问题，加强培训指导，严格规范经营。江苏省文化厅和省公安厅相关管理处室的负责同志分析了当前棋牌类网络游戏行业的发展形势，提出了针对性的工作意见，重点就加强实名制管理、游戏内容自审、营销行为合规审查、网络系统及数据安全等工作提出管理要求。会议倡导全省网络游戏企业自觉合法经营，严守道德底线，注重社会责任和行业担当，践行社会主义核心价值观，以社会效益优先为原则，以高质量为目标，努力打造网络游戏精品，大力发展优质功能游戏，共同维护清朗的网络文化空间\n",
    "http://www.ccm.gov.cn/zgwhscw/zhyw/201806/f6a4a1392dcc432b91ac8cab44ba773f.shtml"
   ]
  },
  {
   "cell_type": "code",
   "execution_count": null,
   "metadata": {},
   "outputs": [],
   "source": []
  }
 ],
 "metadata": {
  "kernelspec": {
   "display_name": "Python 2",
   "language": "python",
   "name": "python2"
  },
  "language_info": {
   "codemirror_mode": {
    "name": "ipython",
    "version": 2
   },
   "file_extension": ".py",
   "mimetype": "text/x-python",
   "name": "python",
   "nbconvert_exporter": "python",
   "pygments_lexer": "ipython2",
   "version": "2.7.14"
  }
 },
 "nbformat": 4,
 "nbformat_minor": 2
}
