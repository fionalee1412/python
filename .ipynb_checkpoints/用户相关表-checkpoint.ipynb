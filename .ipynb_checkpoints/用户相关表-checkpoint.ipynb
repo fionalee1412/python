{
 "cells": [
  {
   "cell_type": "markdown",
   "metadata": {},
   "source": [
    "位置.表名 | 说明\n",
    "---- | ---\n",
    "veda.user_label_day | 用户标签日表，按游戏-平台划分，计算了用户在整个平台当日的玩牌分值、付费分值，以及玩牌时长和次数，付费总额和次数的具体数据。从18年1月1日开始跑的数据\n",
    "veda.user_label_7day | 用户标签周表，字段同上，只是计算日期是往前推6天，包括当天在内为7天，即一周\n",
    "veda.user_label_30day | 用户标签月表，字段同上，计算日期是往前推29天，包括当天在内为30天\n",
    "veda.dfqp_user_portrait | 地方棋牌用户画像表，计算的是截止昨日为止，所有地方棋牌用户在整个生命周期里面的各种统计指标\n",
    "veda.texa_user_portrait | 德州用户画像表，计算方式和字段同上\n",
    "bud_dm.bud_pay_income_sharing_party_uid | 地方棋牌用户付费子游戏分摊，即用户为了哪个子游戏付费\n",
    "veda.user_action_everyday | 用户每日行为统计，18年1月1日开始\n",
    "veda.user_activity_alteration | 用户活跃度变化情况，统计昨日有活跃的用户\n",
    "veda.user_behavior_path | 用户行为路径，可作为参考\n",
    "stage.user_signup_addition_stg | 用户注册补充信息流水表，里面有广告、渠道来源\n",
    "stage.user_signup_stg | 用户注册流水表\n",
    "dim.user_pay_payscene | 用户付费场景中间表"
   ]
  }
 ],
 "metadata": {
  "kernelspec": {
   "display_name": "Python 2",
   "language": "python",
   "name": "python2"
  },
  "language_info": {
   "codemirror_mode": {
    "name": "ipython",
    "version": 2
   },
   "file_extension": ".py",
   "mimetype": "text/x-python",
   "name": "python",
   "nbconvert_exporter": "python",
   "pygments_lexer": "ipython2",
   "version": "2.7.14"
  }
 },
 "nbformat": 4,
 "nbformat_minor": 2
}
