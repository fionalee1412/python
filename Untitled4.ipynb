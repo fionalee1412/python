{
 "cells": [
  {
   "cell_type": "code",
   "execution_count": 3,
   "metadata": {},
   "outputs": [],
   "source": [
    "import pandas as pd\n",
    "from pandas import DataFrame\n",
    "from pickle import load\n",
    "import datetime\n",
    "\n",
    "# 获取昨天的日期\n",
    "now = datetime.datetime.now()-datetime.timedelta(days = 1)\n",
    "date = now.strftime('%Y%m%d')\n",
    "\n",
    "predict_file = pd.read_csv('./csvs/pms_dfqp_GBM_7days.csv')\n",
    "predict_values = predict_file.values\n",
    "predict_X = predict_values[:,2:35]\n",
    "\n",
    "model_path = './csvs/liushi_predict_dfqp_GBM.sav'\n",
    "with open(model_path,'rb') as model_f:\n",
    "    loaded_model = load(model_f)\n",
    "    predict_y = loaded_model.predict(predict_X)\n",
    "\n",
    "fuid = predict_file['fuid']\n",
    "fplatformname = predict_file['fplatformname']\n",
    "dt = predict_file['dt']\n",
    "result = pd.DataFrame({'dt':dt,'fplatformname':fplatformname,'fuid':fuid,'predict':predict_y})\n",
    "\n",
    "save_filename = 'pmr_dfqp_GBM_7days_'+date+'.csv'\n",
    "predict_save_path = './csvs/'+save_filename\n",
    "result.to_csv(predict_save_path,index=False)\n"
   ]
  }
 ],
 "metadata": {
  "kernelspec": {
   "display_name": "Python 2",
   "language": "python",
   "name": "python2"
  },
  "language_info": {
   "codemirror_mode": {
    "name": "ipython",
    "version": 2
   },
   "file_extension": ".py",
   "mimetype": "text/x-python",
   "name": "python",
   "nbconvert_exporter": "python",
   "pygments_lexer": "ipython2",
   "version": "2.7.14"
  }
 },
 "nbformat": 4,
 "nbformat_minor": 2
}
