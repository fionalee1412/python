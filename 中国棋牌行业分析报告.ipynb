{
 "cells": [
  {
   "cell_type": "markdown",
   "metadata": {},
   "source": [
    "# 中国在线棋牌行业分析报告\n",
    "## 前言\n",
    "### 1.1 研究背景\n",
    "### 1.2 研究内容\n",
    "### 1.3 定义与分类\n",
    "### 1.4 研究方法"
   ]
  },
  {
   "cell_type": "markdown",
   "metadata": {},
   "source": [
    "#### 分析的行业：\n",
    "中国的在线棋牌行业\n",
    "#### 该行业的发展历程简述：\n",
    "将中国传统的棋牌玩法发展到线上，通过PC或者移动端，让人们可以随时随地玩棋牌游戏  \n",
    "特点是不受时间地点限制，和传统的游戏相比，不需要创造玩法，人群年龄段分布广泛，而且教育成本低  \n",
    "目前主流的模式有：按场次（金额）分配房间；比赛；房卡（熟人）  \n",
    "#### 通过分析该行业，我要达成的目的：\n",
    "通过研究近些年棋牌行业的发展，探索棋牌行业的趋势和发展机会  \n",
    "#### 报告受众：\n",
    "公司高层\n",
    "#### 受众特点：\n",
    "对棋牌行业非常理解\n",
    "#### 行业定义：\n",
    "提供在线棋牌软件（软件/网页/app/H5），让人们可以随时随地玩棋牌游戏。收费模式为：收取台费，或者卖房卡（本质也是收台费）"
   ]
  },
  {
   "cell_type": "markdown",
   "metadata": {},
   "source": [
    "#### 我要搞清楚的问题：\n",
    "中国棋牌行业未来的发展如何\n",
    "#### 分解问题：\n",
    "* 目标人群\n",
    "    * 人群的数量\n",
    "        * 数量是增多还是下降\n",
    "    * 人群特点\n",
    "        * 不同地区的人群特点\n",
    "        * 不同年龄段的人群特点\n",
    "    * 投入时间\n",
    "        * 人们在未来是不是愿意投入更多时间\n",
    "    * 人群付费意愿\n",
    "* 政策\n",
    "    * 中国整体政策的发展\n",
    "    * 有影响的机构有哪些，这些机构的政策发展是什么样的\n",
    "    * 各地区政府的政策和态度\n",
    "* 公司\n",
    "    * 老牌公司有哪些\n",
    "    * 小公司和创业公司主要有哪些\n",
    "    * 各个公司的发展方向如何\n",
    "    * 进入的创业者是增多还是减少    \n",
    "* 竞争行业\n",
    "    * 其他游戏品种\n",
    "    * 线下棋牌室\n",
    "* 科技\n",
    "    * MR、VR技术对在线棋牌行业的影响\n",
    "    * 直播\n",
    "    * 智能电视\n",
    "    * 智能可穿戴设备\n",
    "    * 网络带宽\n",
    "    * 手机硬件提升\n",
    "    * 区块链和电子货币等\n",
    "    * 社交行业发展\n",
    "* 资本\n",
    "    * 投资额度\n",
    "    * 并购数量"
   ]
  },
  {
   "cell_type": "markdown",
   "metadata": {},
   "source": [
    "#### 行业可能存在的问题\n",
    "* 中国政策风险\n",
    "* 存在擦边球赌博的\n",
    "#### 可能的改进方向\n",
    "* 增加游戏的趣味性，而不是赌博性"
   ]
  },
  {
   "cell_type": "markdown",
   "metadata": {},
   "source": [
    "#### 分析内容\n",
    "* 行业历史\n",
    "* 行业现状\n",
    "* 行业趋势"
   ]
  },
  {
   "cell_type": "markdown",
   "metadata": {},
   "source": [
    "#### 数据来源\n",
    "* 企业服务数据库\n",
    "    * https://www.tianyancha.com\n",
    "* 政府公开数据库\n",
    "    * 国家统计局\n",
    "        * http://data.stats.gov.cn/\n",
    "        * http://www.stats.gov.cn/\n",
    "    * 广电审批游戏\n",
    "        * http://www.sapprft.gov.cn/sapprft/channels/7008.shtml\n",
    "* 咨询公司报告\n",
    "    * 艾瑞\n",
    "        * http://report.iresearch.cn/\n",
    "    * 腾讯大数据\n",
    "        * http://data.qq.com/reports\n",
    "    * gartner\n",
    "        * https://www.gartner.com/technology/research/\n",
    "    * 沙利文\n",
    "        * https://ww2.frost.com/research/\n",
    "    * appannie\n",
    "        * https://www.appannie.com\n",
    "* 企业年报\n",
    "* 行业领军人物\n",
    "* 中国知网：http://www.cnki.net/ http://kns.cnki.net/kns/brief/result.aspx?dbprefix=CSYD\n",
    "* 中经网：http://cyk.cei.cn/aspx/Default.aspx\n",
    "* 国研网：http://www.drcnet.com.cn/www/Integrated/Channel.aspx?version=integrated&uid=13\n",
    "* 数据圈：http://www.shujuquan.com/\n",
    "* 经济搜索：https://fred.stlouisfed.org/\n",
    "* 指数：http://data.chongbuluo.com/\n",
    "* 学术搜索： http://scholar.chongbuluo.com/\n",
    "* \n"
   ]
  },
  {
   "cell_type": "markdown",
   "metadata": {},
   "source": [
    "#### 重要信息\n",
    "* 技术发展\n",
    "    * 棋牌游戏行业涉及的关键技术：\n",
    "        * 网速\n",
    "        * 体验？\n",
    "    * 产业链\n",
    "        * 貌似没啥产业链，最重要的可能就是渠道了\n",
    "    * 市场\n",
    "        * 市场潜力\n",
    "        * 市场规模\n",
    "        * 市场增速\n",
    "        * 区域市场\n",
    "    * 竞争壁垒\n",
    "        * 技术壁垒低\n",
    "        * 渠道壁垒相对较高\n",
    "    * 商业模式\n",
    "        * 游戏内抽水收费\n",
    "    * 政策监管\n",
    "        * 广电局\n",
    "        * 文化旅游局\n",
    "    * 行业领军者行为\n",
    "        * 好像都在搞国外的市场？\n",
    "        * 国内都在发展地方性棋牌\n",
    "    * 资本市场\n",
    "        * 公司在资本市场的表现\n",
    "        * 资本对于棋牌的表现\n"
   ]
  },
  {
   "cell_type": "markdown",
   "metadata": {},
   "source": [
    "#### 企业调查\n",
    "* 企业历史\n",
    "* 企业产品和技术\n",
    "* 企业所处行业分析\n",
    "* 企业优势和不足\n",
    "* 企业发展规划\n",
    "* 股权结构\n",
    "* 高管结构\n",
    "* 财务分析\n",
    "* 融资计划"
   ]
  },
  {
   "cell_type": "markdown",
   "metadata": {},
   "source": [
    "搜索方法：  \n",
    "filetype:pdf 棋牌  \n",
    "棋牌 site:36kr.com\n"
   ]
  }
 ],
 "metadata": {
  "kernelspec": {
   "display_name": "Python 2",
   "language": "python",
   "name": "python2"
  },
  "language_info": {
   "codemirror_mode": {
    "name": "ipython",
    "version": 2
   },
   "file_extension": ".py",
   "mimetype": "text/x-python",
   "name": "python",
   "nbconvert_exporter": "python",
   "pygments_lexer": "ipython2",
   "version": "2.7.14"
  }
 },
 "nbformat": 4,
 "nbformat_minor": 2
}
