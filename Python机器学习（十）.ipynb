{
 "cells": [
  {
   "cell_type": "code",
   "execution_count": 2,
   "metadata": {},
   "outputs": [
    {
     "name": "stderr",
     "output_type": "stream",
     "text": [
      "c:\\python27\\lib\\site-packages\\sklearn\\cross_validation.py:41: DeprecationWarning: This module was deprecated in version 0.18 in favor of the model_selection module into which all the refactored classes and functions are moved. Also note that the interface of the new CV iterators are different from that of this module. This module will be removed in 0.20.\n",
      "  \"This module will be removed in 0.20.\", DeprecationWarning)\n",
      "c:\\python27\\lib\\site-packages\\sklearn\\grid_search.py:42: DeprecationWarning: This module was deprecated in version 0.18 in favor of the model_selection module into which all the refactored classes and functions are moved. This module will be removed in 0.20.\n",
      "  DeprecationWarning)\n",
      "c:\\python27\\lib\\site-packages\\sklearn\\learning_curve.py:22: DeprecationWarning: This module was deprecated in version 0.18 in favor of the model_selection module into which all the functions are moved. This module will be removed in 0.20\n",
      "  DeprecationWarning)\n"
     ]
    },
    {
     "data": {
      "text/html": [
       "<button onclick=\"$('.input, .prompt, .output_stderr, .output_error').toggle();\">Toggle code</button>"
      ]
     },
     "metadata": {},
     "output_type": "display_data"
    }
   ],
   "source": [
    "%matplotlib inline \n",
    "#有了matplotlib inline 就可以省掉plt.show()了\n",
    "%load_ext autoreload\n",
    "%autoreload 2\n",
    "\n",
    "from __future__ import division\n",
    "from imports import *\n",
    "#import pylab #使用pylab模式，可以直接使用numpy、pandas和绘图，而不需要再次引入,会配置为使用你所指定的matplotlib gui后端，还会提供一种更接近于matlab的界面\n",
    "#%pylab\n",
    "from IPython.display import display_html\n",
    "display_html(\"\"\"<button onclick=\"$('.input, .prompt, .output_stderr, .output_error').toggle();\">Toggle code</button>\"\"\", raw=True)\n",
    "# 允许多行输出\n",
    "from IPython.core.interactiveshell import InteractiveShell\n",
    "InteractiveShell.ast_node_interactivity = 'all'"
   ]
  },
  {
   "cell_type": "markdown",
   "metadata": {},
   "source": [
    "# 文本挖掘"
   ]
  },
  {
   "cell_type": "code",
   "execution_count": 6,
   "metadata": {},
   "outputs": [],
   "source": [
    "from sklearn.datasets import load_files"
   ]
  },
  {
   "cell_type": "code",
   "execution_count": 5,
   "metadata": {},
   "outputs": [],
   "source": [
    "# 导入数据\n",
    "categories = ['alt.atheism',\n",
    " 'comp.graphics',\n",
    " 'comp.os.ms-windows.misc',\n",
    " 'comp.sys.ibm.pc.hardware',\n",
    " 'comp.sys.mac.hardware',\n",
    " 'comp.windows.x',\n",
    " 'misc.forsale',\n",
    " 'rec.autos',\n",
    " 'rec.motorcycles',\n",
    " 'rec.sport.baseball',\n",
    " 'rec.sport.hockey',\n",
    " 'sci.crypt',\n",
    " 'sci.electronics',\n",
    " 'sci.med',\n",
    " 'sci.space',\n",
    " 'soc.religion.christian',\n",
    " 'talk.politics.guns',\n",
    " 'talk.politics.mideast',\n",
    " 'talk.politics.misc',\n",
    " 'talk.religion.misc']\n",
    "train_path = './csvs/20news-bydate-train/'\n",
    "test_path = './csvs/20news-bydate-test/'\n",
    "data_train = load_files(container_path=train_path,categories=categories)\n",
    "data_test = load_files(container_path=test_path,categories=categories)"
   ]
  },
  {
   "cell_type": "markdown",
   "metadata": {},
   "source": [
    "### 文本数据特征提取\n",
    "文本数据属于非结构化的数据，一般要转换成结构化的数据才能够通过机器学习算法进行文本分类。  \n",
    "常见的做法是将文本转换成“文档-词项矩阵”，矩阵中的元素可以使用词频或TF-IDF值等  \n",
    "#### TF-IDF值是一种用于信息检索与数据挖掘的常用加权技术。\n",
    "TF（Term Frequency）词频  \n",
    "IDF（Inverse Document Frequency）逆向文件频率  \n",
    "主要思想是：如果某一个词或短语在一篇文章中出现的频率高，并且在其他文章中很少出现，那么认为该词具有很好的类别区分能力"
   ]
  },
  {
   "cell_type": "code",
   "execution_count": 8,
   "metadata": {},
   "outputs": [
    {
     "data": {
      "text/plain": [
       "(11314, 129782)"
      ]
     },
     "execution_count": 8,
     "metadata": {},
     "output_type": "execute_result"
    }
   ],
   "source": [
    "from sklearn.feature_extraction.text import CountVectorizer\n",
    "from sklearn.feature_extraction.text import TfidfVectorizer\n",
    "# 计算词频\n",
    "count_vect = CountVectorizer(stop_words='english',decode_error='ignore')\n",
    "X_train_counts = count_vect.fit_transform(data_train.data)\n",
    "X_train_counts.shape"
   ]
  },
  {
   "cell_type": "code",
   "execution_count": 9,
   "metadata": {},
   "outputs": [
    {
     "data": {
      "text/plain": [
       "(11314, 129782)"
      ]
     },
     "execution_count": 9,
     "metadata": {},
     "output_type": "execute_result"
    }
   ],
   "source": [
    "# 计算TF-IDF\n",
    "tf_transformer = TfidfVectorizer(stop_words='english',decode_error='ignore')\n",
    "X_train_counts_tf = tf_transformer.fit_transform(data_train.data)\n",
    "X_train_counts_tf.shape"
   ]
  },
  {
   "cell_type": "markdown",
   "metadata": {},
   "source": [
    "### 评估算法"
   ]
  },
  {
   "cell_type": "code",
   "execution_count": 10,
   "metadata": {},
   "outputs": [],
   "source": [
    "num_folds = 10\n",
    "seed = 7\n",
    "scoring = 'accuracy'"
   ]
  },
  {
   "cell_type": "code",
   "execution_count": 11,
   "metadata": {},
   "outputs": [
    {
     "name": "stdout",
     "output_type": "stream",
     "text": [
      "KNN : 0.798657 （0.007198）\n",
      "MNB : 0.884391 （0.008151）\n",
      "SVM : 0.050645 （0.013480）\n",
      "LR : 0.900125 （0.009991）\n",
      "CART : 0.662807 （0.012353）\n"
     ]
    }
   ],
   "source": [
    "from sklearn.naive_bayes import MultinomialNB\n",
    "models = {}\n",
    "models['LR'] = LogisticRegression()\n",
    "models['SVM'] = SVC()\n",
    "models['CART'] = DecisionTreeClassifier()\n",
    "models['MNB'] = MultinomialNB()\n",
    "models['KNN'] = KNeighborsClassifier()\n",
    "\n",
    "# 比较算法\n",
    "results = []\n",
    "for key in models:\n",
    "    kfold = KFold(n_splits=num_folds,random_state=seed)\n",
    "    cv_results = cross_val_score(models[key],X_train_counts_tf,data_train.target,cv=kfold,scoring=scoring)\n",
    "    results.append(cv_results)\n",
    "    print('%s : %f （%f）'%(key,cv_results.mean(),cv_results.std()))"
   ]
  },
  {
   "cell_type": "code",
   "execution_count": 13,
   "metadata": {},
   "outputs": [
    {
     "data": {
      "text/plain": [
       "{'boxes': [<matplotlib.lines.Line2D at 0x18b2b4d0>,\n",
       "  <matplotlib.lines.Line2D at 0x18b325f0>,\n",
       "  <matplotlib.lines.Line2D at 0x18b325d0>,\n",
       "  <matplotlib.lines.Line2D at 0x18b44870>,\n",
       "  <matplotlib.lines.Line2D at 0x19292af0>],\n",
       " 'caps': [<matplotlib.lines.Line2D at 0x18b2bb50>,\n",
       "  <matplotlib.lines.Line2D at 0x18b2bdf0>,\n",
       "  <matplotlib.lines.Line2D at 0x18b32df0>,\n",
       "  <matplotlib.lines.Line2D at 0x18b32e10>,\n",
       "  <matplotlib.lines.Line2D at 0x18b44df0>,\n",
       "  <matplotlib.lines.Line2D at 0x19292330>,\n",
       "  <matplotlib.lines.Line2D at 0x1929a310>,\n",
       "  <matplotlib.lines.Line2D at 0x1929a5b0>,\n",
       "  <matplotlib.lines.Line2D at 0x192a3590>,\n",
       "  <matplotlib.lines.Line2D at 0x192a3830>],\n",
       " 'fliers': [<matplotlib.lines.Line2D at 0x18b32350>,\n",
       "  <matplotlib.lines.Line2D at 0x18b445f0>,\n",
       "  <matplotlib.lines.Line2D at 0x19292870>,\n",
       "  <matplotlib.lines.Line2D at 0x1929aaf0>,\n",
       "  <matplotlib.lines.Line2D at 0x192a3d70>],\n",
       " 'means': [],\n",
       " 'medians': [<matplotlib.lines.Line2D at 0x18b2be10>,\n",
       "  <matplotlib.lines.Line2D at 0x18b44350>,\n",
       "  <matplotlib.lines.Line2D at 0x192925d0>,\n",
       "  <matplotlib.lines.Line2D at 0x1929a850>,\n",
       "  <matplotlib.lines.Line2D at 0x192a3ad0>],\n",
       " 'whiskers': [<matplotlib.lines.Line2D at 0x18b2b4b0>,\n",
       "  <matplotlib.lines.Line2D at 0x18b2b8b0>,\n",
       "  <matplotlib.lines.Line2D at 0x18b328b0>,\n",
       "  <matplotlib.lines.Line2D at 0x18b32b50>,\n",
       "  <matplotlib.lines.Line2D at 0x18b44b30>,\n",
       "  <matplotlib.lines.Line2D at 0x18b44dd0>,\n",
       "  <matplotlib.lines.Line2D at 0x19292db0>,\n",
       "  <matplotlib.lines.Line2D at 0x19292dd0>,\n",
       "  <matplotlib.lines.Line2D at 0x1929adb0>,\n",
       "  <matplotlib.lines.Line2D at 0x192a32f0>]}"
      ]
     },
     "execution_count": 13,
     "metadata": {},
     "output_type": "execute_result"
    },
    {
     "data": {
      "text/plain": [
       "[Text(0,0,'KNN'),\n",
       " Text(0,0,'MNB'),\n",
       " Text(0,0,'SVM'),\n",
       " Text(0,0,'LR'),\n",
       " Text(0,0,'CART')]"
      ]
     },
     "execution_count": 13,
     "metadata": {},
     "output_type": "execute_result"
    },
    {
     "data": {
      "image/png": "[encoded data removed]",
      "text/plain": [
       "<Figure size 432x288 with 1 Axes>"
      ]
     },
     "metadata": {},
     "output_type": "display_data"
    }
   ],
   "source": [
    "fig = plt.figure()\n",
    "ax = fig.add_subplot(111)\n",
    "plt.boxplot(results)\n",
    "ax.set_xticklabels(models.keys())"
   ]
  },
  {
   "cell_type": "code",
   "execution_count": 16,
   "metadata": {},
   "outputs": [
    {
     "name": "stdout",
     "output_type": "stream",
     "text": [
      "最优： 0.923015732721 使用{'C': 15}\n"
     ]
    }
   ],
   "source": [
    "# LR 逻辑回归调参\n",
    "# 在LR中，超参数是C。C是目标的约束函数，C值越小则正则化强度越大，对C进行调参，每次给C设定一定数量的值，如果临界值是最优参数，重复这个步骤\n",
    "param_grid = {}\n",
    "param_grid['C'] = [0.1,5,13,15]\n",
    "model = LogisticRegression()\n",
    "kfold = KFold(n_splits=num_folds,random_state=seed)\n",
    "grid = GridSearchCV(estimator=model,param_grid=param_grid,scoring=scoring,cv=kfold)\n",
    "grid_result = grid.fit(X=X_train_counts_tf,y=data_train.target)\n",
    "print('最优： %s 使用%s'%(grid_result.best_score_,grid_result.best_params_))"
   ]
  },
  {
   "cell_type": "code",
   "execution_count": null,
   "metadata": {},
   "outputs": [],
   "source": []
  }
 ],
 "metadata": {
  "kernelspec": {
   "display_name": "Python 2",
   "language": "python",
   "name": "python2"
  },
  "language_info": {
   "codemirror_mode": {
    "name": "ipython",
    "version": 2
   },
   "file_extension": ".py",
   "mimetype": "text/x-python",
   "name": "python",
   "nbconvert_exporter": "python",
   "pygments_lexer": "ipython2",
   "version": "2.7.14"
  }
 },
 "nbformat": 4,
 "nbformat_minor": 2
}
