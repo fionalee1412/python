{
 "cells": [
  {
   "cell_type": "code",
   "execution_count": 2,
   "metadata": {},
   "outputs": [],
   "source": [
    "from imports import *\n",
    "# 允许多行输出\n",
    "from IPython.core.interactiveshell import InteractiveShell\n",
    "InteractiveShell.ast_node_interactivity = 'all'"
   ]
  },
  {
   "cell_type": "code",
   "execution_count": 41,
   "metadata": {},
   "outputs": [],
   "source": [
    "# 导入数据\n",
    "path = './csvs/pms_dfqp_lda_7days.csv'\n",
    "columns = [\n",
    "'fuid',  \n",
    "'fplatformname',  \n",
    "'label_score', \n",
    "'lifespan', \n",
    "'signup_to_now_days', \n",
    "'total_silver_coin', \n",
    "'total_gold_bar',  \n",
    "'carrying_silver_coin',  \n",
    "'carrying_gold_bar',  \n",
    "'safebox_silver_coin',  \n",
    "'safebox_gold_bar',  \n",
    "'if_vip', \n",
    "'play_duration_life', \n",
    "'play_duration_30day', \n",
    "'play_duration_7day', \n",
    "'play_innings_life', \n",
    "'play_innings_30day', \n",
    "'play_innings_7day', \n",
    "'win_innings_life', \n",
    "'win_innings_7day', \n",
    "'lose_innings_life', \n",
    "'lose_innings_7day', \n",
    "'win_rate_life', \n",
    "'win_rate_7day', \n",
    "'pay_count_life', \n",
    "'pay_count_30day', \n",
    "'pay_count_7day', \n",
    "'pay_sum_life', \n",
    "'pay_sum_30day', \n",
    "'pay_sum_7day', \n",
    "'login_count_life', \n",
    "'login_count_7day', \n",
    "'bankrupt_count_life', \n",
    "'bankrupt_count_7day', \n",
    "'relieve_count_life', \n",
    "'relieve_silver_coins_life',  \n",
    "'match_innings_life', \n",
    "'match_duration_life', \n",
    "'match_win_rate_life',\n",
    "'recent_login_series_days', \n",
    "'latest_play_coins_win',\n",
    "'latest_play_coins_lose',  \n",
    "'last_active_to_now_days', \n",
    "'last_pay_to_now_days', \n",
    "'if_away', \n",
    "'dt',\n",
    "]\n",
    "\n",
    "data = pd.read_csv(path,names=columns,skiprows=1)\n",
    "names =data.iloc[:,2:44].columns"
   ]
  },
  {
   "cell_type": "code",
   "execution_count": 66,
   "metadata": {},
   "outputs": [],
   "source": [
    "from sklearn.preprocessing import MinMaxScaler\n",
    "array= data.values\n",
    "X = array[:,2:44].astype(np.float32)\n",
    "y = array[:,44].astype(np.float32)\n",
    "# 调整数据尺度\n",
    "transformer = MinMaxScaler(feature_range=(0,1))\n",
    "newX = transformer.fit_transform(X)\n"
   ]
  },
  {
   "cell_type": "markdown",
   "metadata": {},
   "source": [
    "### 方差过滤"
   ]
  },
  {
   "cell_type": "code",
   "execution_count": 163,
   "metadata": {},
   "outputs": [],
   "source": [
    "def test_VarianceThreshold(X,threshold):\n",
    "    selector = VarianceThreshold(threshold)\n",
    "    selector.fit(X)\n",
    "    a = selector.inverse_transform(selector.transform(X))\n",
    "    return DataFrame(sorted(zip(a[0,:],names),reverse=True))\n",
    "threshold = .8*(1-.8)\n",
    "#test_VarianceThreshold(X=X,threshold=threshold)\n",
    "# 算了，从结果看，没啥好过滤的"
   ]
  },
  {
   "cell_type": "markdown",
   "metadata": {},
   "source": [
    "### 利用卡方检验选择特征值"
   ]
  },
  {
   "cell_type": "code",
   "execution_count": 124,
   "metadata": {},
   "outputs": [],
   "source": [
    "from sklearn.feature_selection import SelectKBest\n",
    "from sklearn.feature_selection import chi2\n",
    "\n",
    "# 选择相关性最高的15个特征\n",
    "X_new = SelectKBest(chi2,k=15).fit_transform(newX,y)\n",
    "a = X_new[0,:]\n",
    "b = a.tolist()\n",
    "c = names.tolist()\n",
    "chi2 = DataFrame(sorted(zip(b,c),reverse=True))"
   ]
  },
  {
   "cell_type": "markdown",
   "metadata": {},
   "source": [
    "### 递归特征消除（RFE）"
   ]
  },
  {
   "cell_type": "code",
   "execution_count": 135,
   "metadata": {
    "scrolled": false
   },
   "outputs": [
    {
     "data": {
      "text/plain": [
       "RFE(estimator=LinearRegression(copy_X=True, fit_intercept=True, n_jobs=1, normalize=False),\n",
       "  n_features_to_select=15, step=1, verbose=0)"
      ]
     },
     "execution_count": 135,
     "metadata": {},
     "output_type": "execute_result"
    }
   ],
   "source": [
    "from sklearn.feature_selection import RFE\n",
    "from sklearn.linear_model import LinearRegression\n",
    "lr = LinearRegression()\n",
    "rfe = RFE(estimator=lr,n_features_to_select=15)\n",
    "rfe.fit(newX,y)\n",
    "# 选中的特征重要程度为1\n",
    "RFE = DataFrame(sorted(zip(rfe.ranking_,names)))\n",
    "#DataFrame(sorted(zip(rfe.support_,names),reverse=True))\n",
    "rfe = RFE[RFE[0]==1]"
   ]
  },
  {
   "cell_type": "markdown",
   "metadata": {},
   "source": [
    "### Lasso选择参数"
   ]
  },
  {
   "cell_type": "code",
   "execution_count": 127,
   "metadata": {},
   "outputs": [],
   "source": [
    "from sklearn.linear_model import LassoCV\n",
    "from sklearn.feature_selection import SelectFromModel\n",
    "\n",
    "clf = LassoCV()\n",
    "sfm = SelectFromModel(clf,threshold=0.01)\n",
    "X_new = sfm.fit(newX,y)\n",
    "n_features = sfm.transform(newX)\n",
    "lasso = DataFrame(sorted(zip(n_features[0,:],names),reverse=True))\n",
    "lasso = lasso.iloc[0:15]"
   ]
  },
  {
   "cell_type": "markdown",
   "metadata": {},
   "source": [
    "### L1特征选择"
   ]
  },
  {
   "cell_type": "code",
   "execution_count": 128,
   "metadata": {},
   "outputs": [],
   "source": [
    "from sklearn.svm import LinearSVC\n",
    "lsvc = LinearSVC(C=0.01, penalty=\"l1\", dual=False).fit(newX, y)\n",
    "model = SelectFromModel(lsvc, prefit=True)\n",
    "X_new = model.transform(newX)\n",
    "a = X_new[0,:]\n",
    "l1 = DataFrame(sorted(zip(a,names),reverse=True))"
   ]
  },
  {
   "cell_type": "markdown",
   "metadata": {},
   "source": [
    "### 树选择特征"
   ]
  },
  {
   "cell_type": "code",
   "execution_count": 129,
   "metadata": {
    "scrolled": false
   },
   "outputs": [],
   "source": [
    "from sklearn.ensemble import ExtraTreesClassifier\n",
    "clf = ExtraTreesClassifier()\n",
    "clf = clf.fit(X,y)\n",
    "etc = DataFrame(sorted(zip(clf.feature_importances_ ,names),reverse=True))\n",
    "etc = etc.iloc[0:15]"
   ]
  },
  {
   "cell_type": "markdown",
   "metadata": {},
   "source": [
    "## 将每个方法选择的特征组合起来"
   ]
  },
  {
   "cell_type": "code",
   "execution_count": 137,
   "metadata": {},
   "outputs": [
    {
     "data": {
      "text/html": [
       "<div>\n",
       "<style scoped>\n",
       "    .dataframe tbody tr th:only-of-type {\n",
       "        vertical-align: middle;\n",
       "    }\n",
       "\n",
       "    .dataframe tbody tr th {\n",
       "        vertical-align: top;\n",
       "    }\n",
       "\n",
       "    .dataframe thead th {\n",
       "        text-align: right;\n",
       "    }\n",
       "</style>\n",
       "<table border=\"1\" class=\"dataframe\">\n",
       "  <thead>\n",
       "    <tr style=\"text-align: right;\">\n",
       "      <th></th>\n",
       "      <th>0</th>\n",
       "      <th>1</th>\n",
       "      <th>0</th>\n",
       "      <th>1</th>\n",
       "      <th>0</th>\n",
       "      <th>1</th>\n",
       "      <th>0</th>\n",
       "      <th>1</th>\n",
       "      <th>0</th>\n",
       "      <th>1</th>\n",
       "    </tr>\n",
       "  </thead>\n",
       "  <tbody>\n",
       "    <tr>\n",
       "      <th>0</th>\n",
       "      <td>0.875000</td>\n",
       "      <td>label_score</td>\n",
       "      <td>1</td>\n",
       "      <td>carrying_gold_bar</td>\n",
       "      <td>0.875000</td>\n",
       "      <td>label_score</td>\n",
       "      <td>0.138922</td>\n",
       "      <td>last_active_to_now_days</td>\n",
       "      <td>0.875000</td>\n",
       "      <td>label_score</td>\n",
       "    </tr>\n",
       "    <tr>\n",
       "      <th>1</th>\n",
       "      <td>0.500000</td>\n",
       "      <td>play_innings_30day</td>\n",
       "      <td>1</td>\n",
       "      <td>carrying_silver_coin</td>\n",
       "      <td>0.632400</td>\n",
       "      <td>lose_innings_life</td>\n",
       "      <td>0.048715</td>\n",
       "      <td>lose_innings_7day</td>\n",
       "      <td>0.500000</td>\n",
       "      <td>carrying_gold_bar</td>\n",
       "    </tr>\n",
       "    <tr>\n",
       "      <th>2</th>\n",
       "      <td>0.026548</td>\n",
       "      <td>total_silver_coin</td>\n",
       "      <td>1</td>\n",
       "      <td>label_score</td>\n",
       "      <td>0.500000</td>\n",
       "      <td>pay_count_life</td>\n",
       "      <td>0.043866</td>\n",
       "      <td>login_count_7day</td>\n",
       "      <td>0.342800</td>\n",
       "      <td>signup_to_now_days</td>\n",
       "    </tr>\n",
       "    <tr>\n",
       "      <th>3</th>\n",
       "      <td>0.025497</td>\n",
       "      <td>carrying_gold_bar</td>\n",
       "      <td>1</td>\n",
       "      <td>last_active_to_now_days</td>\n",
       "      <td>0.342800</td>\n",
       "      <td>safebox_silver_coin</td>\n",
       "      <td>0.039562</td>\n",
       "      <td>play_duration_30day</td>\n",
       "      <td>0.016476</td>\n",
       "      <td>total_gold_bar</td>\n",
       "    </tr>\n",
       "    <tr>\n",
       "      <th>4</th>\n",
       "      <td>0.016476</td>\n",
       "      <td>play_duration_30day</td>\n",
       "      <td>1</td>\n",
       "      <td>lifespan</td>\n",
       "      <td>0.288591</td>\n",
       "      <td>lifespan</td>\n",
       "      <td>0.034451</td>\n",
       "      <td>play_innings_7day</td>\n",
       "      <td>0.000000</td>\n",
       "      <td>total_silver_coin</td>\n",
       "    </tr>\n",
       "    <tr>\n",
       "      <th>5</th>\n",
       "      <td>0.014670</td>\n",
       "      <td>safebox_gold_bar</td>\n",
       "      <td>1</td>\n",
       "      <td>login_count_7day</td>\n",
       "      <td>0.278846</td>\n",
       "      <td>pay_count_30day</td>\n",
       "      <td>0.033801</td>\n",
       "      <td>login_count_life</td>\n",
       "      <td>0.000000</td>\n",
       "      <td>lifespan</td>\n",
       "    </tr>\n",
       "    <tr>\n",
       "      <th>6</th>\n",
       "      <td>0.011374</td>\n",
       "      <td>carrying_silver_coin</td>\n",
       "      <td>1</td>\n",
       "      <td>pay_count_30day</td>\n",
       "      <td>0.046494</td>\n",
       "      <td>win_innings_life</td>\n",
       "      <td>0.030795</td>\n",
       "      <td>play_duration_life</td>\n",
       "      <td>0.000000</td>\n",
       "      <td>carrying_silver_coin</td>\n",
       "    </tr>\n",
       "    <tr>\n",
       "      <th>7</th>\n",
       "      <td>0.009177</td>\n",
       "      <td>signup_to_now_days</td>\n",
       "      <td>1</td>\n",
       "      <td>pay_sum_30day</td>\n",
       "      <td>0.025497</td>\n",
       "      <td>total_silver_coin</td>\n",
       "      <td>0.030496</td>\n",
       "      <td>win_rate_life</td>\n",
       "      <td>NaN</td>\n",
       "      <td>NaN</td>\n",
       "    </tr>\n",
       "    <tr>\n",
       "      <th>8</th>\n",
       "      <td>0.001342</td>\n",
       "      <td>total_gold_bar</td>\n",
       "      <td>1</td>\n",
       "      <td>relieve_count_life</td>\n",
       "      <td>0.016476</td>\n",
       "      <td>play_innings_life</td>\n",
       "      <td>0.028843</td>\n",
       "      <td>label_score</td>\n",
       "      <td>NaN</td>\n",
       "      <td>NaN</td>\n",
       "    </tr>\n",
       "    <tr>\n",
       "      <th>9</th>\n",
       "      <td>0.001338</td>\n",
       "      <td>play_duration_life</td>\n",
       "      <td>1</td>\n",
       "      <td>relieve_silver_coins_life</td>\n",
       "      <td>0.014670</td>\n",
       "      <td>total_gold_bar</td>\n",
       "      <td>0.027883</td>\n",
       "      <td>play_innings_30day</td>\n",
       "      <td>NaN</td>\n",
       "      <td>NaN</td>\n",
       "    </tr>\n",
       "    <tr>\n",
       "      <th>10</th>\n",
       "      <td>0.000892</td>\n",
       "      <td>safebox_silver_coin</td>\n",
       "      <td>1</td>\n",
       "      <td>safebox_gold_bar</td>\n",
       "      <td>0.009007</td>\n",
       "      <td>carrying_gold_bar</td>\n",
       "      <td>0.027718</td>\n",
       "      <td>win_rate_7day</td>\n",
       "      <td>NaN</td>\n",
       "      <td>NaN</td>\n",
       "    </tr>\n",
       "    <tr>\n",
       "      <th>11</th>\n",
       "      <td>0.000000</td>\n",
       "      <td>play_innings_life</td>\n",
       "      <td>1</td>\n",
       "      <td>safebox_silver_coin</td>\n",
       "      <td>0.007054</td>\n",
       "      <td>win_rate_7day</td>\n",
       "      <td>0.027036</td>\n",
       "      <td>win_innings_7day</td>\n",
       "      <td>NaN</td>\n",
       "      <td>NaN</td>\n",
       "    </tr>\n",
       "    <tr>\n",
       "      <th>12</th>\n",
       "      <td>0.000000</td>\n",
       "      <td>play_duration_7day</td>\n",
       "      <td>1</td>\n",
       "      <td>signup_to_now_days</td>\n",
       "      <td>0.001395</td>\n",
       "      <td>play_innings_7day</td>\n",
       "      <td>0.026831</td>\n",
       "      <td>play_duration_7day</td>\n",
       "      <td>NaN</td>\n",
       "      <td>NaN</td>\n",
       "    </tr>\n",
       "    <tr>\n",
       "      <th>13</th>\n",
       "      <td>0.000000</td>\n",
       "      <td>lifespan</td>\n",
       "      <td>1</td>\n",
       "      <td>total_gold_bar</td>\n",
       "      <td>0.001164</td>\n",
       "      <td>if_vip</td>\n",
       "      <td>0.025421</td>\n",
       "      <td>lifespan</td>\n",
       "      <td>NaN</td>\n",
       "      <td>NaN</td>\n",
       "    </tr>\n",
       "    <tr>\n",
       "      <th>14</th>\n",
       "      <td>0.000000</td>\n",
       "      <td>if_vip</td>\n",
       "      <td>1</td>\n",
       "      <td>total_silver_coin</td>\n",
       "      <td>0.000885</td>\n",
       "      <td>win_innings_7day</td>\n",
       "      <td>0.025381</td>\n",
       "      <td>relieve_count_life</td>\n",
       "      <td>NaN</td>\n",
       "      <td>NaN</td>\n",
       "    </tr>\n",
       "  </tbody>\n",
       "</table>\n",
       "</div>"
      ],
      "text/plain": [
       "           0                     1  0                          1         0  \\\n",
       "0   0.875000           label_score  1          carrying_gold_bar  0.875000   \n",
       "1   0.500000    play_innings_30day  1       carrying_silver_coin  0.632400   \n",
       "2   0.026548     total_silver_coin  1                label_score  0.500000   \n",
       "3   0.025497     carrying_gold_bar  1    last_active_to_now_days  0.342800   \n",
       "4   0.016476   play_duration_30day  1                   lifespan  0.288591   \n",
       "5   0.014670      safebox_gold_bar  1           login_count_7day  0.278846   \n",
       "6   0.011374  carrying_silver_coin  1            pay_count_30day  0.046494   \n",
       "7   0.009177    signup_to_now_days  1              pay_sum_30day  0.025497   \n",
       "8   0.001342        total_gold_bar  1         relieve_count_life  0.016476   \n",
       "9   0.001338    play_duration_life  1  relieve_silver_coins_life  0.014670   \n",
       "10  0.000892   safebox_silver_coin  1           safebox_gold_bar  0.009007   \n",
       "11  0.000000     play_innings_life  1        safebox_silver_coin  0.007054   \n",
       "12  0.000000    play_duration_7day  1         signup_to_now_days  0.001395   \n",
       "13  0.000000              lifespan  1             total_gold_bar  0.001164   \n",
       "14  0.000000                if_vip  1          total_silver_coin  0.000885   \n",
       "\n",
       "                      1         0                        1         0  \\\n",
       "0           label_score  0.138922  last_active_to_now_days  0.875000   \n",
       "1     lose_innings_life  0.048715        lose_innings_7day  0.500000   \n",
       "2        pay_count_life  0.043866         login_count_7day  0.342800   \n",
       "3   safebox_silver_coin  0.039562      play_duration_30day  0.016476   \n",
       "4              lifespan  0.034451        play_innings_7day  0.000000   \n",
       "5       pay_count_30day  0.033801         login_count_life  0.000000   \n",
       "6      win_innings_life  0.030795       play_duration_life  0.000000   \n",
       "7     total_silver_coin  0.030496            win_rate_life       NaN   \n",
       "8     play_innings_life  0.028843              label_score       NaN   \n",
       "9        total_gold_bar  0.027883       play_innings_30day       NaN   \n",
       "10    carrying_gold_bar  0.027718            win_rate_7day       NaN   \n",
       "11        win_rate_7day  0.027036         win_innings_7day       NaN   \n",
       "12    play_innings_7day  0.026831       play_duration_7day       NaN   \n",
       "13               if_vip  0.025421                 lifespan       NaN   \n",
       "14     win_innings_7day  0.025381       relieve_count_life       NaN   \n",
       "\n",
       "                       1  \n",
       "0            label_score  \n",
       "1      carrying_gold_bar  \n",
       "2     signup_to_now_days  \n",
       "3         total_gold_bar  \n",
       "4      total_silver_coin  \n",
       "5               lifespan  \n",
       "6   carrying_silver_coin  \n",
       "7                    NaN  \n",
       "8                    NaN  \n",
       "9                    NaN  \n",
       "10                   NaN  \n",
       "11                   NaN  \n",
       "12                   NaN  \n",
       "13                   NaN  \n",
       "14                   NaN  "
      ]
     },
     "execution_count": 137,
     "metadata": {},
     "output_type": "execute_result"
    }
   ],
   "source": [
    "pd.concat([chi2,rfe,lasso,etc,l1],axis=1 )"
   ]
  },
  {
   "cell_type": "markdown",
   "metadata": {},
   "source": [
    "### 最终选定的特征为：\n",
    "* label_score\n",
    "* total_silver_coin\n",
    "* carrying_gold_bar\n",
    "* carrying_silver_coin\t\n",
    "* signup_to_now_days\n",
    "* total_gold_bar\n",
    "* safebox_silver_coin\n",
    "* lifespan"
   ]
  },
  {
   "cell_type": "markdown",
   "metadata": {},
   "source": [
    "## 测试一下模型"
   ]
  },
  {
   "cell_type": "code",
   "execution_count": 145,
   "metadata": {},
   "outputs": [],
   "source": [
    "testX = data[[\"label_score\",\"total_silver_coin\",\"carrying_gold_bar\",\"carrying_silver_coin\",\"signup_to_now_days\",\"total_gold_bar\",\"safebox_silver_coin\",\"lifespan\"]].values\n",
    "testX_transform = transformer.fit_transform(testX)\n",
    "validation_size = 0.2\n",
    "seed = 7\n",
    "X_t,X_v,y_t,y_v = train_test_split(testX_transform,y,test_size=validation_size,random_state=seed)"
   ]
  },
  {
   "cell_type": "code",
   "execution_count": 158,
   "metadata": {},
   "outputs": [],
   "source": [
    "# 通过分类准确度来评估算法\n",
    "def algorithm(X,y):\n",
    "    num_folds = 10\n",
    "    scoring = 'accuracy'\n",
    "    \n",
    "    ## 算法\n",
    "    models = {}\n",
    "    # 逻辑回归\n",
    "    models['LR'] = LogisticRegression()\n",
    "    # 线性判别分析\n",
    "    models['LDA'] = LinearDiscriminantAnalysis()\n",
    "    # K近邻\n",
    "    models['KNN'] = KNeighborsClassifier()\n",
    "    # 分类与回归树\n",
    "    models['CART'] = DecisionTreeClassifier()\n",
    "    # 贝叶斯分类器\n",
    "    models['NB'] = GaussianNB()\n",
    "    # 支持向量机\n",
    "    models['SVM'] = SVC()\n",
    "    \n",
    "    results = []\n",
    "    for key in models:\n",
    "        kfold = KFold(n_splits=num_folds,random_state=seed)\n",
    "        cv_results = cross_val_score(models[key],X,y,cv=kfold,scoring=scoring)\n",
    "        results.append(cv_results)\n",
    "        print('%s: %f (%f)'% (key,cv_results.mean(),cv_results.std()))\n",
    "    \n",
    "    \n",
    "    # 集成算\n",
    "    ensembles = {}\n",
    "    ensembles['ScaledAB'] = Pipeline([('Scaler',StandardScaler()),('AB',AdaBoostClassifier())])\n",
    "    ensembles['ScaledGBM'] = Pipeline([('Scaler',StandardScaler()),('GBM',GradientBoostingClassifier())])\n",
    "    ensembles['ScaledRF'] = Pipeline([('Scaler',StandardScaler()),('RFR',RandomForestClassifier())])\n",
    "    ensembles['ScaledET'] = Pipeline([('Scaler',StandardScaler()),('ETR',ExtraTreesClassifier())])\n",
    "    \n",
    "    for key in ensembles:\n",
    "        kfold = KFold(n_splits=num_folds,random_state=seed)\n",
    "        cv_result = cross_val_score(ensembles[key],X,y,cv=kfold,scoring=scoring)\n",
    "        results.append(cv_result)\n",
    "        print('%s: %f (%f)'% (key,cv_result.mean(),cv_result.std()))\n",
    "        \n",
    "    # 通过箱线图显示数据的分布情况\n",
    "    fig = plt.figure(figsize=(18, 8), dpi=200)\n",
    "    ax = fig.add_subplot(111)\n",
    "    plt.boxplot(results);\n",
    "    ax.set_xticklabels(models.keys()+ensembles.keys());"
   ]
  },
  {
   "cell_type": "code",
   "execution_count": 160,
   "metadata": {},
   "outputs": [],
   "source": [
    "# 选择全部数据做的模型结果\n",
    "validation_size = 0.2\n",
    "seed = 7\n",
    "X_t1,X_v1,y_t1,y_v1 = train_test_split(newX,y,test_size=validation_size,random_state=seed)"
   ]
  },
  {
   "cell_type": "code",
   "execution_count": 159,
   "metadata": {},
   "outputs": [
    {
     "name": "stdout",
     "output_type": "stream",
     "text": [
      "KNN: 0.781750 (0.007525)\n",
      "LDA: 0.798750 (0.013405)\n",
      "SVM: 0.795500 (0.011155)\n",
      "NB: 0.581875 (0.018601)\n",
      "CART: 0.752875 (0.012979)\n",
      "LR: 0.804500 (0.010843)\n",
      "ScaledET: 0.794500 (0.012860)\n",
      "ScaledAB: 0.809750 (0.010866)\n",
      "ScaledRF: 0.788000 (0.014929)\n",
      "ScaledGBM: 0.813125 (0.014266)\n"
     ]
    },
    {
     "data": {
      "image/png": "[encoded data removed]",
      "text/plain": [
       "<Figure size 3600x1600 with 1 Axes>"
      ]
     },
     "metadata": {},
     "output_type": "display_data"
    }
   ],
   "source": [
    "algorithm(X_t1,y_t1)"
   ]
  },
  {
   "cell_type": "code",
   "execution_count": 161,
   "metadata": {
    "scrolled": false
   },
   "outputs": [
    {
     "name": "stdout",
     "output_type": "stream",
     "text": [
      "KNN: 0.776250 (0.008660)\n",
      "LDA: 0.795250 (0.011670)\n",
      "SVM: 0.758125 (0.016736)\n",
      "NB: 0.692125 (0.088231)\n",
      "CART: 0.715625 (0.012763)\n",
      "LR: 0.758125 (0.016736)\n",
      "ScaledET: 0.764250 (0.012664)\n",
      "ScaledAB: 0.780125 (0.013630)\n",
      "ScaledRF: 0.768750 (0.020623)\n",
      "ScaledGBM: 0.781875 (0.013570)\n"
     ]
    },
    {
     "data": {
      "image/png": "[encoded data removed]",
      "text/plain": [
       "<Figure size 3600x1600 with 1 Axes>"
      ]
     },
     "metadata": {},
     "output_type": "display_data"
    }
   ],
   "source": [
    "algorithm(X_t,y_t)"
   ]
  },
  {
   "cell_type": "markdown",
   "metadata": {},
   "source": [
    "### 虽然有的模型准确度降低了，但是整体来看，这8个特征选定得还是可以的，那就暂时先定为这8个特征吧~"
   ]
  },
  {
   "cell_type": "markdown",
   "metadata": {},
   "source": [
    "# 模型选定\n",
    "### 我们选定三个模型来优化其参数\n",
    "* LDA\n",
    "* ScaledGBM\n",
    "* ScaledAB"
   ]
  },
  {
   "cell_type": "code",
   "execution_count": null,
   "metadata": {},
   "outputs": [],
   "source": []
  }
 ],
 "metadata": {
  "kernelspec": {
   "display_name": "Python 2",
   "language": "python",
   "name": "python2"
  },
  "language_info": {
   "codemirror_mode": {
    "name": "ipython",
    "version": 2
   },
   "file_extension": ".py",
   "mimetype": "text/x-python",
   "name": "python",
   "nbconvert_exporter": "python",
   "pygments_lexer": "ipython2",
   "version": "2.7.14"
  }
 },
 "nbformat": 4,
 "nbformat_minor": 2
}
