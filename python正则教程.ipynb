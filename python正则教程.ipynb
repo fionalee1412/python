{
 "cells": [
  {
   "cell_type": "code",
   "execution_count": 2,
   "metadata": {},
   "outputs": [],
   "source": [
    "import re"
   ]
  },
  {
   "cell_type": "code",
   "execution_count": 4,
   "metadata": {},
   "outputs": [
    {
     "name": "stdout",
     "output_type": "stream",
     "text": [
      "<_sre.SRE_Match object at 0x067F7AD8>\n"
     ]
    }
   ],
   "source": [
    "# 简单匹配\n",
    "# re.search(pattern,string),找到之后会返回一个match的object\n",
    "pattern = 'fiona'\n",
    "string = 'fiona is great!'\n",
    "print(re.search(pattern,string))"
   ]
  },
  {
   "cell_type": "code",
   "execution_count": 9,
   "metadata": {},
   "outputs": [
    {
     "name": "stdout",
     "output_type": "stream",
     "text": [
      "<_sre.SRE_Match object at 0x067F7D08>\n",
      "<_sre.SRE_Match object at 0x067F7C60>\n"
     ]
    }
   ],
   "source": [
    "# 灵活匹配\n",
    "# 多个文字可以用[]，比如说[ab]是a/b\n",
    "# 建立一个正则的规则，在pattern的\"\"前面需要加上一个r用来表示这是正则表达式\n",
    "ptn = r\"[fF]iona\"\n",
    "print(re.search(ptn,string))\n",
    "# 还可以是[A-Z]表示是所有的大写的英文字母\n",
    "# [0-9a-z]表示可以是数字也可以是任何小写字母\n",
    "print(re.search(r\"[A-Z]\",'lalallalallaA'))"
   ]
  },
  {
   "cell_type": "code",
   "execution_count": 20,
   "metadata": {},
   "outputs": [
    {
     "name": "stdout",
     "output_type": "stream",
     "text": [
      "<_sre.SRE_Match object at 0x0681A090>\n",
      "<_sre.SRE_Match object at 0x0681A090>\n"
     ]
    }
   ],
   "source": [
    "# 按类型匹配\n",
    "\"\"\"\n",
    "* \\d:任何数字\n",
    "* \\D:不是数字\n",
    "* \\s:任何空白符\n",
    "* \\S:不是空白符\n",
    "* \\w:任何大小写字母、数字和\"\"[a-zA-Z0-9]\n",
    "* \\W:不是\\w\n",
    "* \\b:空白字符（只在某个字的开头或结尾）\n",
    "* \\B:空白字符（不再某个字的开头或结尾）\n",
    "* \\\\:匹配\\\n",
    "* .:匹配任何字符（除了\\n）\n",
    "* ^：匹配开头\n",
    "* $: 匹配结尾\n",
    "* ?：前面的字符可有可无\n",
    "\"\"\"\n",
    "# 手机号码\n",
    "ptn1 = r\"1[3,5]\\d{9}\"\n",
    "print(re.search(ptn1,'15914194366'))\n",
    "# 空白符\n",
    "ptn2 = r\"\\b\"\n",
    "print(re.search(ptn2,' fiona '))"
   ]
  },
  {
   "cell_type": "code",
   "execution_count": 25,
   "metadata": {},
   "outputs": [
    {
     "name": "stdout",
     "output_type": "stream",
     "text": [
      "<_sre.SRE_Match object at 0x068AD5D0>\n"
     ]
    }
   ],
   "source": [
    "# 如果有多行匹配，需要加上flags=re.M\n",
    "string = \"\"\"\n",
    "mingxiaoya \n",
    "love \n",
    "fiona\n",
    "\"\"\"\n",
    "print(re.search(r\"^fiona\",string,flags=re.M))"
   ]
  },
  {
   "cell_type": "code",
   "execution_count": 32,
   "metadata": {},
   "outputs": [
    {
     "name": "stdout",
     "output_type": "stream",
     "text": [
      "<_sre.SRE_Match object at 0x068AD790>\n"
     ]
    }
   ],
   "source": [
    "# 重复匹配\n",
    "\"\"\"\n",
    "* *：重复0或多次\n",
    "* +：重复一次/多次\n",
    "* {n,m}:重复n到m次\n",
    "* {n}：重复n次\n",
    "\"\"\"\n",
    "ptn3 = r\"\\d{5}\"\n",
    "print(re.search(ptn3,\"1fsdf00000\"))"
   ]
  },
  {
   "cell_type": "code",
   "execution_count": 44,
   "metadata": {},
   "outputs": [
    {
     "name": "stdout",
     "output_type": "stream",
     "text": [
      "1/1/2018\n"
     ]
    },
    {
     "ename": "error",
     "evalue": "unbalanced parenthesis",
     "output_type": "error",
     "traceback": [
      "\u001b[1;31m---------------------------------------------------------------------------\u001b[0m",
      "\u001b[1;31merror\u001b[0m                                     Traceback (most recent call last)",
      "\u001b[1;32m<ipython-input-44-715d35e56ef8>\u001b[0m in \u001b[0;36m<module>\u001b[1;34m()\u001b[0m\n\u001b[0;32m      9\u001b[0m \u001b[0;31m可\u001b[0m\u001b[0;31m以\u001b[0m\u001b[0;31m用\u001b[0m\u001b[0;31m?\u001b[0m\u001b[0mP\u001b[0m\u001b[1;33m<\u001b[0m\u001b[0;31m名\u001b[0m\u001b[0;31m字\u001b[0m\u001b[1;33m>\u001b[0m\u001b[0;31m加\u001b[0m\u001b[0;31m载\u001b[0m\u001b[0;31m一\u001b[0m\u001b[0;31m个\u001b[0m\u001b[0;31m匹\u001b[0m\u001b[0;31m配\u001b[0m\u001b[0;31m前\u001b[0m\u001b[0;31m面\u001b[0m\u001b[0;31m，\u001b[0m\u001b[0;31m代\u001b[0m\u001b[0;31m表\u001b[0m\u001b[0;31m这\u001b[0m\u001b[0;31m个\u001b[0m\u001b[0;31m匹\u001b[0m\u001b[0;31m配\u001b[0m\u001b[0;31m的\u001b[0m\u001b[0;31m名\u001b[0m\u001b[0;31m字\u001b[0m\u001b[1;33m\u001b[0m\u001b[0m\n\u001b[0;32m     10\u001b[0m \"\"\"\n\u001b[1;32m---> 11\u001b[1;33m \u001b[0mmatch\u001b[0m \u001b[1;33m=\u001b[0m \u001b[0mre\u001b[0m\u001b[1;33m.\u001b[0m\u001b[0msearch\u001b[0m\u001b[1;33m(\u001b[0m\u001b[1;34mr\"(?P<id>\\d+),Date:(?P<date>.+))\"\u001b[0m\u001b[1;33m,\u001b[0m\u001b[1;34m\"ID:03213123,Date:1/1/2018\"\u001b[0m\u001b[1;33m)\u001b[0m\u001b[1;33m\u001b[0m\u001b[0m\n\u001b[0m\u001b[0;32m     12\u001b[0m \u001b[1;32mprint\u001b[0m\u001b[1;33m(\u001b[0m\u001b[0mmatch\u001b[0m\u001b[1;33m.\u001b[0m\u001b[0mgroup\u001b[0m\u001b[1;33m(\u001b[0m\u001b[1;34m'id'\u001b[0m\u001b[1;33m)\u001b[0m\u001b[1;33m)\u001b[0m\u001b[1;33m\u001b[0m\u001b[0m\n",
      "\u001b[1;32mc:\\python27\\lib\\re.pyc\u001b[0m in \u001b[0;36msearch\u001b[1;34m(pattern, string, flags)\u001b[0m\n\u001b[0;32m    144\u001b[0m     \"\"\"Scan through string looking for a match to the pattern, returning\n\u001b[0;32m    145\u001b[0m     a match object, or None if no match was found.\"\"\"\n\u001b[1;32m--> 146\u001b[1;33m     \u001b[1;32mreturn\u001b[0m \u001b[0m_compile\u001b[0m\u001b[1;33m(\u001b[0m\u001b[0mpattern\u001b[0m\u001b[1;33m,\u001b[0m \u001b[0mflags\u001b[0m\u001b[1;33m)\u001b[0m\u001b[1;33m.\u001b[0m\u001b[0msearch\u001b[0m\u001b[1;33m(\u001b[0m\u001b[0mstring\u001b[0m\u001b[1;33m)\u001b[0m\u001b[1;33m\u001b[0m\u001b[0m\n\u001b[0m\u001b[0;32m    147\u001b[0m \u001b[1;33m\u001b[0m\u001b[0m\n\u001b[0;32m    148\u001b[0m \u001b[1;32mdef\u001b[0m \u001b[0msub\u001b[0m\u001b[1;33m(\u001b[0m\u001b[0mpattern\u001b[0m\u001b[1;33m,\u001b[0m \u001b[0mrepl\u001b[0m\u001b[1;33m,\u001b[0m \u001b[0mstring\u001b[0m\u001b[1;33m,\u001b[0m \u001b[0mcount\u001b[0m\u001b[1;33m=\u001b[0m\u001b[1;36m0\u001b[0m\u001b[1;33m,\u001b[0m \u001b[0mflags\u001b[0m\u001b[1;33m=\u001b[0m\u001b[1;36m0\u001b[0m\u001b[1;33m)\u001b[0m\u001b[1;33m:\u001b[0m\u001b[1;33m\u001b[0m\u001b[0m\n",
      "\u001b[1;32mc:\\python27\\lib\\re.pyc\u001b[0m in \u001b[0;36m_compile\u001b[1;34m(*key)\u001b[0m\n\u001b[0;32m    249\u001b[0m         \u001b[0mp\u001b[0m \u001b[1;33m=\u001b[0m \u001b[0msre_compile\u001b[0m\u001b[1;33m.\u001b[0m\u001b[0mcompile\u001b[0m\u001b[1;33m(\u001b[0m\u001b[0mpattern\u001b[0m\u001b[1;33m,\u001b[0m \u001b[0mflags\u001b[0m\u001b[1;33m)\u001b[0m\u001b[1;33m\u001b[0m\u001b[0m\n\u001b[0;32m    250\u001b[0m     \u001b[1;32mexcept\u001b[0m \u001b[0merror\u001b[0m\u001b[1;33m,\u001b[0m \u001b[0mv\u001b[0m\u001b[1;33m:\u001b[0m\u001b[1;33m\u001b[0m\u001b[0m\n\u001b[1;32m--> 251\u001b[1;33m         \u001b[1;32mraise\u001b[0m \u001b[0merror\u001b[0m\u001b[1;33m,\u001b[0m \u001b[0mv\u001b[0m \u001b[1;31m# invalid expression\u001b[0m\u001b[1;33m\u001b[0m\u001b[0m\n\u001b[0m\u001b[0;32m    252\u001b[0m     \u001b[1;32mif\u001b[0m \u001b[1;32mnot\u001b[0m \u001b[0mbypass_cache\u001b[0m\u001b[1;33m:\u001b[0m\u001b[1;33m\u001b[0m\u001b[0m\n\u001b[0;32m    253\u001b[0m         \u001b[1;32mif\u001b[0m \u001b[0mlen\u001b[0m\u001b[1;33m(\u001b[0m\u001b[0m_cache\u001b[0m\u001b[1;33m)\u001b[0m \u001b[1;33m>=\u001b[0m \u001b[0m_MAXCACHE\u001b[0m\u001b[1;33m:\u001b[0m\u001b[1;33m\u001b[0m\u001b[0m\n",
      "\u001b[1;31merror\u001b[0m: unbalanced parenthesis"
     ]
    }
   ],
   "source": [
    "# 分组\n",
    "\"\"\"\n",
    "使用()即可，比如(\\d+)找到一个或多个数字，(.+)可以放在某个后面，匹配到它后面的内容\n",
    "使用match.group()时，它会返回所有组里的内容\n",
    "\"\"\"\n",
    "match = re.search(r\"(\\d+),Date:(.+)\",\"ID:03213123,Date:1/1/2018\")\n",
    "print(match.group(2))\n",
    "\"\"\"\n",
    "可以用?P<名字>加载一个匹配前面，代表这个匹配的名字\n",
    "\"\"\"\n",
    "match = re.search(r\"(?P<id>\\d+),Date:(?P<date>.+))\",\"ID:03213123,Date:1/1/2018\")\n",
    "print(match.group('id'))"
   ]
  },
  {
   "cell_type": "code",
   "execution_count": 46,
   "metadata": {},
   "outputs": [
    {
     "name": "stdout",
     "output_type": "stream",
     "text": [
      "['ran', 'run']\n"
     ]
    }
   ],
   "source": [
    "# findall\n",
    "# re.findall返回所有匹配到的值\n",
    "print(re.findall(r\"r[au]n\",\"i ran run ren\"))"
   ]
  },
  {
   "cell_type": "code",
   "execution_count": 51,
   "metadata": {},
   "outputs": [
    {
     "name": "stdout",
     "output_type": "stream",
     "text": [
      "fiona love you\n"
     ]
    }
   ],
   "source": [
    "# replace\n",
    "# re.sub()婆婆之后替换\n",
    "print(re.sub(r\"hate\",\"love\",\"fiona hate you\"))"
   ]
  },
  {
   "cell_type": "code",
   "execution_count": 53,
   "metadata": {},
   "outputs": [
    {
     "name": "stdout",
     "output_type": "stream",
     "text": [
      "['ab', 'lab', 'fsdf', 'fsdf', 'fds']\n"
     ]
    }
   ],
   "source": [
    "# split\n",
    "# re.split可以将字符串分割\n",
    "string = \"ab;lab,fsdf;fsdf:fds\"\n",
    "print(re.split(r\"[:,;]\",string))"
   ]
  },
  {
   "cell_type": "code",
   "execution_count": 58,
   "metadata": {},
   "outputs": [
    {
     "ename": "TypeError",
     "evalue": "expected string or buffer",
     "output_type": "error",
     "traceback": [
      "\u001b[1;31m---------------------------------------------------------------------------\u001b[0m",
      "\u001b[1;31mTypeError\u001b[0m                                 Traceback (most recent call last)",
      "\u001b[1;32m<ipython-input-58-5cce7d5ced25>\u001b[0m in \u001b[0;36m<module>\u001b[1;34m()\u001b[0m\n\u001b[0;32m      2\u001b[0m \u001b[1;31m# 用re.compile来对正则进行重复使用\u001b[0m\u001b[1;33m\u001b[0m\u001b[1;33m\u001b[0m\u001b[0m\n\u001b[0;32m      3\u001b[0m \u001b[0mcompiled_re\u001b[0m \u001b[1;33m=\u001b[0m \u001b[0mre\u001b[0m\u001b[1;33m.\u001b[0m\u001b[0mcompile\u001b[0m\u001b[1;33m(\u001b[0m\u001b[1;34mr\"15\\d{9}\"\u001b[0m\u001b[1;33m)\u001b[0m\u001b[1;33m\u001b[0m\u001b[0m\n\u001b[1;32m----> 4\u001b[1;33m \u001b[1;32mprint\u001b[0m\u001b[1;33m(\u001b[0m\u001b[0mcompiled_re\u001b[0m\u001b[1;33m.\u001b[0m\u001b[0msearch\u001b[0m\u001b[1;33m(\u001b[0m\u001b[1;33m[\u001b[0m\u001b[1;34m\"15999999099\"\u001b[0m\u001b[1;33m,\u001b[0m\u001b[1;34m\"13000\"\u001b[0m\u001b[1;33m]\u001b[0m\u001b[1;33m)\u001b[0m\u001b[1;33m)\u001b[0m\u001b[1;33m\u001b[0m\u001b[0m\n\u001b[0m",
      "\u001b[1;31mTypeError\u001b[0m: expected string or buffer"
     ]
    }
   ],
   "source": [
    "# compile\n",
    "# 用re.compile来对正则进行重复使用\n",
    "compiled_re = re.compile(r\"15\\d{9}\")\n",
    "print(compiled_re.search([\"15999999099\",\"13000\"]))"
   ]
  }
 ],
 "metadata": {
  "kernelspec": {
   "display_name": "Python 2",
   "language": "python",
   "name": "python2"
  },
  "language_info": {
   "codemirror_mode": {
    "name": "ipython",
    "version": 2
   },
   "file_extension": ".py",
   "mimetype": "text/x-python",
   "name": "python",
   "nbconvert_exporter": "python",
   "pygments_lexer": "ipython2",
   "version": "2.7.14"
  }
 },
 "nbformat": 4,
 "nbformat_minor": 2
}
