{
 "cells": [
  {
   "cell_type": "markdown",
   "metadata": {},
   "source": [
    "## 聚类\n",
    "#### 场景：\n",
    "* 选定几个字段，对用户群进行分类（比如付费和玩牌，选出高净值人群）\n",
    "* 对特定的人群进行精细化运营\n",
    "\n",
    "#### 算法：\n",
    "* K-means\n",
    "* K中心点\n",
    "* 网格\n",
    "* 层次聚类\n",
    "\n",
    "#### 步骤：\n",
    "1. 对预选字段进行相关性检验，对相关性强的字段，选一个就行\n",
    "2. 做主成分分析，选出主要的字段\n",
    "3. 进行数据预处理\n",
    "\n",
    "#### 注意点：\n",
    "可以结合其他字段进行分析"
   ]
  },
  {
   "cell_type": "markdown",
   "metadata": {},
   "source": [
    "## 预测/分类\n",
    "#### 场景：\n",
    "* 对优质群体划分，也是用在精细化运营商\n",
    "#### 算法：\n",
    "* 神经网络\n",
    "* 决策树\n",
    "* 逻辑回归\n",
    "* 多元线性回归"
   ]
  },
  {
   "cell_type": "markdown",
   "metadata": {},
   "source": [
    "## 用户特征分析\n",
    "#### 场景：\n",
    "* 找出用户细分群体的特点\n",
    "\n",
    "#### 算法：\n",
    "* 聚类\n",
    "* 决策树"
   ]
  },
  {
   "cell_type": "markdown",
   "metadata": {},
   "source": [
    "## 假设检验\n",
    "#### 场景：\n",
    "* 区分出运营的效果是否是随机的，还是因为运营的因素引起的\n",
    "#### 方法：\n",
    "* T检验\n",
    "* Wilcoxon秩和检验\n",
    "* F检验\n",
    "* 单因素方差分析\n",
    "* 卡方检验\n",
    "* AB Test"
   ]
  },
  {
   "cell_type": "markdown",
   "metadata": {},
   "source": [
    "## 路径分析\n",
    "#### 算法：\n",
    "* 链接分析\n",
    "* 基于序列的关联分析"
   ]
  },
  {
   "cell_type": "markdown",
   "metadata": {},
   "source": [
    "## 主成分分析\n",
    "#### 场景\n",
    "用于判定运营活跃度（可以将几个指标结合起来）"
   ]
  }
 ],
 "metadata": {
  "kernelspec": {
   "display_name": "Python 2",
   "language": "python",
   "name": "python2"
  },
  "language_info": {
   "codemirror_mode": {
    "name": "ipython",
    "version": 2
   },
   "file_extension": ".py",
   "mimetype": "text/x-python",
   "name": "python",
   "nbconvert_exporter": "python",
   "pygments_lexer": "ipython2",
   "version": "2.7.14"
  }
 },
 "nbformat": 4,
 "nbformat_minor": 2
}
