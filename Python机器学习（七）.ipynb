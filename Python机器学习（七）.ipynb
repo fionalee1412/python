{
 "cells": [
  {
   "cell_type": "code",
   "execution_count": 2,
   "metadata": {},
   "outputs": [
    {
     "name": "stdout",
     "output_type": "stream",
     "text": [
      "The autoreload extension is already loaded. To reload it, use:\n",
      "  %reload_ext autoreload\n"
     ]
    },
    {
     "data": {
      "text/html": [
       "<button onclick=\"$('.input, .prompt, .output_stderr, .output_error').toggle();\">Toggle code</button>"
      ]
     },
     "metadata": {},
     "output_type": "display_data"
    }
   ],
   "source": [
    "%matplotlib inline \n",
    "#有了matplotlib inline 就可以省掉plt.show()了\n",
    "%load_ext autoreload\n",
    "%autoreload 2\n",
    "\n",
    "from __future__ import division\n",
    "from imports import *\n",
    "#import pylab #使用pylab模式，可以直接使用numpy、pandas和绘图，而不需要再次引入,会配置为使用你所指定的matplotlib gui后端，还会提供一种更接近于matlab的界面\n",
    "#%pylab\n",
    "from IPython.display import display_html\n",
    "display_html(\"\"\"<button onclick=\"$('.input, .prompt, .output_stderr, .output_error').toggle();\">Toggle code</button>\"\"\", raw=True)\n",
    "# 允许多行输出\n",
    "from IPython.core.interactiveshell import InteractiveShell\n",
    "InteractiveShell.ast_node_interactivity = 'all'\n",
    "from sklearn import *\n",
    "from sklearn.model_selection import train_test_split\n",
    "from sklearn.model_selection import KFold\n",
    "from sklearn.model_selection import cross_val_score\n",
    "from sklearn.metrics import classification_report\n",
    "from sklearn.metrics import confusion_matrix\n",
    "from sklearn.metrics import accuracy_score\n",
    "from sklearn.linear_model import LogisticRegression\n",
    "from sklearn.tree import DecisionTreeClassifier\n",
    "from sklearn.discriminant_analysis import LinearDiscriminantAnalysis\n",
    "from sklearn.neighbors import KNeighborsClassifier\n",
    "from sklearn.naive_bayes import GaussianNB\n",
    "from sklearn.svm import SVC"
   ]
  },
  {
   "cell_type": "markdown",
   "metadata": {},
   "source": [
    "## 集成算法\n",
    "将多种机器学习算法组合在一起，提高算法准确度"
   ]
  },
  {
   "cell_type": "markdown",
   "metadata": {},
   "source": [
    "### 集成的方法\n",
    "* 装袋算法（Bagging）：先将训练集分离成多个子集，然后通过各个子集训练多个模型\n",
    "* 提升算法（Boosting）：训练多个模型并组成一个序列，序列中的每个模型都会修正前一个模型的错误\n",
    "* 投票算法（Voting）：训练多个模型，并采用样本统计来提高模型的准确度"
   ]
  },
  {
   "cell_type": "markdown",
   "metadata": {},
   "source": [
    "### 装袋算法\n",
    "通过给定组合投票的方式获得最优解"
   ]
  },
  {
   "cell_type": "markdown",
   "metadata": {},
   "source": [
    "#### 装袋决策树"
   ]
  },
  {
   "cell_type": "code",
   "execution_count": 9,
   "metadata": {},
   "outputs": [],
   "source": [
    "from sklearn.model_selection import KFold\n",
    "from sklearn.model_selection import cross_val_score\n",
    "filename = './csvs/user_label_7day_0301.csv'\n",
    "datasource = pd.read_csv(filename)\n",
    "data = datasource[datasource['user_label_7day.fplatformname']=='新浪平台']\n",
    "array = data.values\n",
    "X = array[:,5:9].astype(np.int64)\n",
    "Y = array[:,9].astype(np.int64)\n",
    "num_folds = 10\n",
    "seed = 7\n",
    "kfold = KFold(n_splits=num_folds,random_state=seed)"
   ]
  },
  {
   "cell_type": "code",
   "execution_count": 11,
   "metadata": {},
   "outputs": [
    {
     "name": "stdout",
     "output_type": "stream",
     "text": [
      "[ 0.95625    0.9625     0.9375     0.95625    0.925      0.96875    0.95\n",
      "  0.93125    0.93125    0.9245283]\n"
     ]
    }
   ],
   "source": [
    "from sklearn.ensemble import BaggingClassifier\n",
    "from sklearn.tree import DecisionTreeClassifier\n",
    "\n",
    "cart = DecisionTreeClassifier()\n",
    "num_tree = 100\n",
    "model = BaggingClassifier(base_estimator=cart,n_estimators=num_tree,random_state=seed)\n",
    "result = cross_val_score(model,X,Y,cv=kfold)\n",
    "print result"
   ]
  },
  {
   "cell_type": "markdown",
   "metadata": {},
   "source": [
    "#### 随机森林\n",
    "用随机的方式建立很多决策树，每一颗决策树之间是没有关联的。  \n",
    "当有一个新的输入样本进入的时候，就让每一颗树分别进行判断，看这个样本应该属于哪一类，然后被选得最多的那一类，就是这个样本的分类"
   ]
  },
  {
   "cell_type": "code",
   "execution_count": 13,
   "metadata": {},
   "outputs": [
    {
     "name": "stdout",
     "output_type": "stream",
     "text": [
      "0.945577830189\n"
     ]
    }
   ],
   "source": [
    "from sklearn.ensemble import RandomForestClassifier\n",
    "num_tree = 100\n",
    "max_features = 3\n",
    "model = RandomForestClassifier(n_estimators=num_tree,random_state=seed,max_features=max_features)\n",
    "result = cross_val_score(model,X,Y,cv=kfold)\n",
    "print result.mean()"
   ]
  },
  {
   "cell_type": "markdown",
   "metadata": {},
   "source": [
    "#### 极端随机树\n",
    "和随机森林很像，都是由很多决策树构成  \n",
    "区别在于：  \n",
    "* 随机森林用的是Bagging模型，但是极端随机树应用的是相同的全部训练样本\n",
    "* 极端随机树是完全随机地选择分叉特征属性的"
   ]
  },
  {
   "cell_type": "code",
   "execution_count": 15,
   "metadata": {},
   "outputs": [
    {
     "data": {
      "text/plain": [
       "0.93182389937106913"
      ]
     },
     "execution_count": 15,
     "metadata": {},
     "output_type": "execute_result"
    }
   ],
   "source": [
    "from sklearn.ensemble import ExtraTreesClassifier\n",
    "model = ExtraTreesClassifier(n_estimators=num_tree,random_state=seed,max_features=max_features)\n",
    "result = cross_val_score(model,X,Y,cv=kfold)\n",
    "result.mean()"
   ]
  },
  {
   "cell_type": "markdown",
   "metadata": {},
   "source": [
    "### 提升算法\n",
    "是一种用来提高弱分类算法准确度的方法  \n",
    "这种方法先构造一个预测函数系列，然后以一定的方式将它们组成一个预测函数  \n",
    "主要通过对样本集的操作获得样本子集，然后用弱分类算法在样本子集上训练生成一系列的基分类器。  \n",
    "它可以用来提高其他弱分类算法的识别率"
   ]
  },
  {
   "cell_type": "markdown",
   "metadata": {},
   "source": [
    "#### AdaBoost\n",
    "是一种迭代算法，核心思想是针对同一个训练集训练不同的分类器，然后把这些弱分类器集合起来，构成一个更强的最终分类器。通过修改权值"
   ]
  },
  {
   "cell_type": "code",
   "execution_count": 17,
   "metadata": {},
   "outputs": [
    {
     "data": {
      "text/plain": [
       "0.95245283018867932"
      ]
     },
     "execution_count": 17,
     "metadata": {},
     "output_type": "execute_result"
    }
   ],
   "source": [
    "from sklearn.ensemble import AdaBoostClassifier\n",
    "model = AdaBoostClassifier(n_estimators=num_tree,random_state=seed)\n",
    "result = cross_val_score(model,X,Y,cv=kfold)\n",
    "result.mean()"
   ]
  },
  {
   "cell_type": "markdown",
   "metadata": {},
   "source": [
    "#### 随机梯度提升（GBM）\n",
    "梯度算子总是指向函数值增长最快的方向，一次只用一个样本点来更新回归系数"
   ]
  },
  {
   "cell_type": "code",
   "execution_count": 18,
   "metadata": {},
   "outputs": [
    {
     "data": {
      "text/plain": [
       "0.93744103773584908"
      ]
     },
     "execution_count": 18,
     "metadata": {},
     "output_type": "execute_result"
    }
   ],
   "source": [
    "from sklearn.ensemble import GradientBoostingClassifier\n",
    "model = GradientBoostingClassifier(n_estimators=num_tree,random_state=seed)\n",
    "result = cross_val_score(model,X,Y,cv=kfold)\n",
    "result.mean()"
   ]
  },
  {
   "cell_type": "markdown",
   "metadata": {},
   "source": [
    "## 投票算法（Voting）\n",
    "通过创建两个或多个算法模型，利用投票算法将这些算法包装起来，计算各个子模型的平均预测状况"
   ]
  },
  {
   "cell_type": "code",
   "execution_count": 20,
   "metadata": {},
   "outputs": [
    {
     "name": "stdout",
     "output_type": "stream",
     "text": [
      "0.952452830189\n"
     ]
    }
   ],
   "source": [
    "from sklearn.ensemble import VotingClassifier\n",
    "from sklearn.tree import DecisionTreeClassifier\n",
    "from sklearn.svm import SVC\n",
    "from sklearn.linear_model import LogisticRegression\n",
    "cart = DecisionTreeClassifier()\n",
    "models = []\n",
    "model_logistic = LogisticRegression()\n",
    "models.append(('logistic',model_logistic))\n",
    "model_cart = DecisionTreeClassifier()\n",
    "models.append(('cart',model_cart))\n",
    "model_svc = SVC()\n",
    "models.append(('svm',model_svc))\n",
    "ensemble_model = VotingClassifier(estimators=models)\n",
    "result = cross_val_score(ensemble_model,X,Y,cv=kfold)\n",
    "print result.mean()"
   ]
  }
 ],
 "metadata": {
  "kernelspec": {
   "display_name": "Python 2",
   "language": "python",
   "name": "python2"
  },
  "language_info": {
   "codemirror_mode": {
    "name": "ipython",
    "version": 2
   },
   "file_extension": ".py",
   "mimetype": "text/x-python",
   "name": "python",
   "nbconvert_exporter": "python",
   "pygments_lexer": "ipython2",
   "version": "2.7.14"
  }
 },
 "nbformat": 4,
 "nbformat_minor": 2
}
