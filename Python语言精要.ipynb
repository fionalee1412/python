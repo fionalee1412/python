{
 "cells": [
  {
   "cell_type": "code",
   "execution_count": 6,
   "metadata": {},
   "outputs": [
    {
     "data": {
      "text/html": [
       "<button onclick=\"$('.input, .prompt, .output_stderr, .output_error').toggle();\">Toggle code</button>"
      ]
     },
     "metadata": {},
     "output_type": "display_data"
    }
   ],
   "source": [
    "%matplotlib inline \n",
    "#有了matplotlib inline 就可以省掉plt.show()了\n",
    "%load_ext autoreload\n",
    "%autoreload 2\n",
    "\n",
    "from __future__ import division\n",
    "from imports import *\n",
    "from IPython.display import display_html\n",
    "display_html(\"\"\"<button onclick=\"$('.input, .prompt, .output_stderr, .output_error').toggle();\">Toggle code</button>\"\"\", raw=True)\n",
    "# 允许多行输出\n",
    "from IPython.core.interactiveshell import InteractiveShell\n",
    "InteractiveShell.ast_node_interactivity = 'all'"
   ]
  },
  {
   "cell_type": "markdown",
   "metadata": {},
   "source": [
    "## Python 解释器"
   ]
  },
  {
   "cell_type": "markdown",
   "metadata": {},
   "source": [
    "#### Python是一种解释性语言。Python解释器是通过一次执行一条语句的方式运行程序的\n"
   ]
  },
  {
   "cell_type": "markdown",
   "metadata": {},
   "source": [
    "## 基础知识"
   ]
  },
  {
   "cell_type": "markdown",
   "metadata": {},
   "source": [
    "#### 语言语义\n",
    "Python语言的设计特点是重视可读性、简洁性以及明确性"
   ]
  },
  {
   "cell_type": "markdown",
   "metadata": {},
   "source": [
    "#### 缩进，而不是大括号\n",
    "Python是通过空白符（tab或空格）来组织代码的"
   ]
  },
  {
   "cell_type": "code",
   "execution_count": null,
   "metadata": {},
   "outputs": [],
   "source": [
    "# 冒号表示一段缩进代码块的开始\n",
    "# 其后的所有代码都必须缩进相同的量，直到代码块结束为止\n",
    "for x in array:\n",
    "    if x < pivot:\n",
    "        less.append(x)\n",
    "    else:\n",
    "        greater.append(x)"
   ]
  },
  {
   "cell_type": "markdown",
   "metadata": {},
   "source": [
    "#### 万物皆对象\n",
    "python解释器中的任何数值、字符串、数据结构、函数、类、模块等都放在python对象中，每个对象都有一个与之相关的类型以及内部数据"
   ]
  },
  {
   "cell_type": "markdown",
   "metadata": {},
   "source": [
    "#### 注释\n",
    "用 # "
   ]
  },
  {
   "cell_type": "markdown",
   "metadata": {},
   "source": [
    "#### 函数调用和对象方法调用\n",
    "函数的调用需要用到圆括号以及0个或多个参数\n",
    "几乎所有的Python对象都有一些附属函数（也就是方法）\n",
    "Obj.some_methond(x,y,z)\n",
    "函数既可以接受位置参数，也可以接受关键字参数\n",
    "result = f(a,b,c,d=5,e='foo')"
   ]
  },
  {
   "cell_type": "markdown",
   "metadata": {},
   "source": [
    "#### 变量和按引用传递"
   ]
  },
  {
   "cell_type": "code",
   "execution_count": 2,
   "metadata": {},
   "outputs": [
    {
     "data": {
      "text/plain": [
       "[1, 2, 3, 4]"
      ]
     },
     "execution_count": 2,
     "metadata": {},
     "output_type": "execute_result"
    }
   ],
   "source": [
    "# 在Python中对变量赋值时，你其实是在创建等号右侧对象的一个引用\n",
    "a = [1,2,3]\n",
    "b = a\n",
    "b.append(4)\n",
    "a"
   ]
  },
  {
   "cell_type": "markdown",
   "metadata": {},
   "source": [
    "#### 动态引用，强类型"
   ]
  },
  {
   "cell_type": "code",
   "execution_count": 5,
   "metadata": {},
   "outputs": [
    {
     "data": {
      "text/plain": [
       "int"
      ]
     },
     "execution_count": 5,
     "metadata": {},
     "output_type": "execute_result"
    },
    {
     "data": {
      "text/plain": [
       "list"
      ]
     },
     "execution_count": 5,
     "metadata": {},
     "output_type": "execute_result"
    }
   ],
   "source": [
    "# python中的对象引用没有与之关联的类型信息\n",
    "a = 5\n",
    "type(a)\n",
    "a = [1.2,3,4]\n",
    "type(a)"
   ]
  },
  {
   "cell_type": "code",
   "execution_count": 9,
   "metadata": {},
   "outputs": [
    {
     "data": {
      "text/plain": [
       "2.25"
      ]
     },
     "execution_count": 9,
     "metadata": {},
     "output_type": "execute_result"
    }
   ],
   "source": [
    "# Python 是一种强类型的语言，也就是说，所有对象都有一个特定的类型，隐式转换只在很明显的情况下才会发生\n",
    "a = 4.5\n",
    "b = 'fsfd'\n",
    "# a+b\n",
    "c = 2\n",
    "a/c"
   ]
  },
  {
   "cell_type": "code",
   "execution_count": 11,
   "metadata": {},
   "outputs": [
    {
     "data": {
      "text/plain": [
       "True"
      ]
     },
     "execution_count": 11,
     "metadata": {},
     "output_type": "execute_result"
    }
   ],
   "source": [
    "# 通过isinstance函数，你可以检查一个对象是否是某个特定类型的实例\n",
    "a = 5\n",
    "isinstance(a,int)"
   ]
  },
  {
   "cell_type": "markdown",
   "metadata": {},
   "source": [
    "#### 属性和方法\n",
    "Python中的对象通常既有属性又有方法"
   ]
  },
  {
   "cell_type": "code",
   "execution_count": 12,
   "metadata": {},
   "outputs": [],
   "source": [
    "# 通过obj.<tab>可以看到它有的方法和属性"
   ]
  },
  {
   "cell_type": "markdown",
   "metadata": {},
   "source": [
    "#### 引入（import）"
   ]
  },
  {
   "cell_type": "code",
   "execution_count": 14,
   "metadata": {},
   "outputs": [
    {
     "ename": "ImportError",
     "evalue": "No module named some_module",
     "output_type": "error",
     "traceback": [
      "\u001b[1;31m---------------------------------------------------------------------------\u001b[0m",
      "\u001b[1;31mImportError\u001b[0m                               Traceback (most recent call last)",
      "\u001b[1;32m<ipython-input-14-12ccccc20511>\u001b[0m in \u001b[0;36m<module>\u001b[1;34m()\u001b[0m\n\u001b[0;32m      1\u001b[0m \u001b[1;31m# 如果想要引入some_module.py中定义的变量和函数，可以在同一个目录下创建另一个文件\u001b[0m\u001b[1;33m\u001b[0m\u001b[1;33m\u001b[0m\u001b[0m\n\u001b[1;32m----> 2\u001b[1;33m \u001b[1;32mimport\u001b[0m \u001b[0msome_module\u001b[0m\u001b[1;33m\u001b[0m\u001b[0m\n\u001b[0m\u001b[0;32m      3\u001b[0m \u001b[0mresult\u001b[0m \u001b[1;33m=\u001b[0m \u001b[0msome_module\u001b[0m\u001b[1;33m.\u001b[0m\u001b[0mf\u001b[0m\u001b[1;33m(\u001b[0m\u001b[1;36m5\u001b[0m\u001b[1;33m)\u001b[0m\u001b[1;33m\u001b[0m\u001b[0m\n\u001b[0;32m      4\u001b[0m \u001b[1;31m#还可以写成这样\u001b[0m\u001b[1;33m\u001b[0m\u001b[1;33m\u001b[0m\u001b[0m\n\u001b[0;32m      5\u001b[0m \u001b[1;32mfrom\u001b[0m \u001b[0msome_module\u001b[0m \u001b[1;32mimport\u001b[0m \u001b[0mf\u001b[0m\u001b[1;33m,\u001b[0m\u001b[0mg\u001b[0m\u001b[1;33m,\u001b[0m\u001b[0mPI\u001b[0m\u001b[1;33m\u001b[0m\u001b[0m\n",
      "\u001b[1;31mImportError\u001b[0m: No module named some_module"
     ]
    }
   ],
   "source": [
    "# 如果想要引入some_module.py中定义的变量和函数，可以在同一个目录下创建另一个文件\n",
    "import some_module\n",
    "result = some_module.f(5)\n",
    "#还可以写成这样\n",
    "from some_module import f,g,PI\n",
    "# 通过as关键字，你可以给模块起别名\n",
    "import some_module as sm\n",
    "from some_module import PI as pi,g as gf"
   ]
  },
  {
   "cell_type": "markdown",
   "metadata": {},
   "source": [
    "#### 二元运算符和比较运算符\n",
    "* a+b \n",
    "* a-b\n",
    "* a*b\n",
    "* a/b\n",
    "* a//b a除以b后向下园整，丢弃小数部分\n",
    "* a**b a的b次方\n",
    "* a & b 如果a和b均为True，则结果为True。对于整数，执行按位与操作\n",
    "* a|b 如果a和b任何一个为True，则结果为True，对于整数，执行按位或操作\n",
    "* a^ b 对于布尔值，如果a或b为True，则结果为True，对于整数，执行按位异或操作\n",
    "* a = = b 如果a等于b，则结果为True\n",
    "* a!= b 如果a不等于b， 则结果为True\n",
    "* a <= b，a < b 如果a小于等于（或小于）b，则结果为True\n",
    "* a > b , a >= b 如果a大于（或大于等于），则结果为True\n",
    "* a is b 如果引用a和b指向同一个Python对象，则结果为True\n",
    "* a is not b 如果引用a和b指向不同的Python对象，则结果为True"
   ]
  },
  {
   "cell_type": "code",
   "execution_count": 16,
   "metadata": {},
   "outputs": [
    {
     "data": {
      "text/plain": [
       "nan"
      ]
     },
     "execution_count": 16,
     "metadata": {},
     "output_type": "execute_result"
    },
    {
     "data": {
      "text/plain": [
       "False"
      ]
     },
     "execution_count": 16,
     "metadata": {},
     "output_type": "execute_result"
    }
   ],
   "source": [
    "a = np.nan\n",
    "a\n",
    "a is None"
   ]
  },
  {
   "cell_type": "markdown",
   "metadata": {},
   "source": [
    "#### 严格与懒惰\n",
    "在Python中，只要语句被求值，相关计算就会立即发生，也就是严格的"
   ]
  },
  {
   "cell_type": "markdown",
   "metadata": {},
   "source": [
    "#### 可变和不可变的对象"
   ]
  },
  {
   "cell_type": "code",
   "execution_count": 20,
   "metadata": {},
   "outputs": [
    {
     "data": {
      "text/plain": [
       "['foo', [3, 4], [4, 5]]"
      ]
     },
     "execution_count": 20,
     "metadata": {},
     "output_type": "execute_result"
    },
    {
     "ename": "TypeError",
     "evalue": "'tuple' object does not support item assignment",
     "output_type": "error",
     "traceback": [
      "\u001b[1;31m---------------------------------------------------------------------------\u001b[0m",
      "\u001b[1;31mTypeError\u001b[0m                                 Traceback (most recent call last)",
      "\u001b[1;32m<ipython-input-20-1e2c2af28a3d>\u001b[0m in \u001b[0;36m<module>\u001b[1;34m()\u001b[0m\n\u001b[0;32m      5\u001b[0m \u001b[1;31m# 字符串和元组等则是不可变的\u001b[0m\u001b[1;33m\u001b[0m\u001b[1;33m\u001b[0m\u001b[0m\n\u001b[0;32m      6\u001b[0m \u001b[0ma_tuple\u001b[0m \u001b[1;33m=\u001b[0m \u001b[1;33m(\u001b[0m\u001b[1;36m3\u001b[0m\u001b[1;33m,\u001b[0m\u001b[1;36m5\u001b[0m\u001b[1;33m,\u001b[0m\u001b[1;33m(\u001b[0m\u001b[1;36m4\u001b[0m\u001b[1;33m,\u001b[0m\u001b[1;36m5\u001b[0m\u001b[1;33m)\u001b[0m\u001b[1;33m)\u001b[0m\u001b[1;33m\u001b[0m\u001b[0m\n\u001b[1;32m----> 7\u001b[1;33m \u001b[0ma_tuple\u001b[0m\u001b[1;33m[\u001b[0m\u001b[1;36m1\u001b[0m\u001b[1;33m]\u001b[0m \u001b[1;33m=\u001b[0m \u001b[1;34m'fout'\u001b[0m\u001b[1;33m\u001b[0m\u001b[0m\n\u001b[0m",
      "\u001b[1;31mTypeError\u001b[0m: 'tuple' object does not support item assignment"
     ]
    }
   ],
   "source": [
    "# 大部分Python对象是可变得（mutable），比如列表、字典、Numpy数组以及大部分用户自定义类型\n",
    "a_list = ['foo',2,[4,5]]\n",
    "a_list[1] = [3,4]\n",
    "a_list\n",
    "# 字符串和元组等则是不可变的\n",
    "a_tuple = (3,5,(4,5))\n",
    "a_tuple[1] = 'fout'"
   ]
  },
  {
   "cell_type": "markdown",
   "metadata": {},
   "source": [
    "#### 标量类型\n",
    "* None Python的“null”值\n",
    "* str 字符串类型\n",
    "* Unicode Unico字符串类型\n",
    "* float 双精度（64位）浮点数。注意，这里没有专门的double类型\n",
    "* bool True或False\n",
    "* int 有符号整数，其最大值由平台决定\n",
    "* long 任意精度的有符号整数。大的int值会被自动转换为long"
   ]
  },
  {
   "cell_type": "markdown",
   "metadata": {},
   "source": [
    "#### 数值类型\n",
    "用于表示数字的主要类型是int和float。Python会自动将非常大的整数转换为long，它可以存储任意大小的整数"
   ]
  },
  {
   "cell_type": "code",
   "execution_count": 22,
   "metadata": {},
   "outputs": [
    {
     "data": {
      "text/plain": [
       "long"
      ]
     },
     "execution_count": 22,
     "metadata": {},
     "output_type": "execute_result"
    }
   ],
   "source": [
    "a = 312312312**6\n",
    "type(a)"
   ]
  },
  {
   "cell_type": "markdown",
   "metadata": {},
   "source": [
    "#### 字符串"
   ]
  },
  {
   "cell_type": "code",
   "execution_count": 35,
   "metadata": {},
   "outputs": [
    {
     "data": {
      "text/plain": [
       "'one way of writing a string'"
      ]
     },
     "execution_count": 35,
     "metadata": {},
     "output_type": "execute_result"
    },
    {
     "data": {
      "text/plain": [
       "'another way'"
      ]
     },
     "execution_count": 35,
     "metadata": {},
     "output_type": "execute_result"
    },
    {
     "data": {
      "text/plain": [
       "'\\nThis is a longer string that\\nspans multiple lines\\n'"
      ]
     },
     "execution_count": 35,
     "metadata": {},
     "output_type": "execute_result"
    },
    {
     "data": {
      "text/plain": [
       "'5.6'"
      ]
     },
     "execution_count": 35,
     "metadata": {},
     "output_type": "execute_result"
    },
    {
     "data": {
      "text/plain": [
       "['a', 'n', 'o', 't', 'h', 'e', 'r', ' ', 'w', 'a', 'y']"
      ]
     },
     "execution_count": 35,
     "metadata": {},
     "output_type": "execute_result"
    },
    {
     "data": {
      "text/plain": [
       "('a', 'n', 'o', 't', 'h', 'e', 'r', ' ', 'w', 'a', 'y')"
      ]
     },
     "execution_count": 35,
     "metadata": {},
     "output_type": "execute_result"
    },
    {
     "name": "stdout",
     "output_type": "stream",
     "text": [
      "12\\34\n",
      "this\\has\\n\\no\n"
     ]
    },
    {
     "data": {
      "text/plain": [
       "'this\\\\has\\\\n\\\\nothis\\\\has\\\\n\\\\no'"
      ]
     },
     "execution_count": 35,
     "metadata": {},
     "output_type": "execute_result"
    },
    {
     "data": {
      "text/plain": [
       "'4.32 fsfsdf are worth $11'"
      ]
     },
     "execution_count": 35,
     "metadata": {},
     "output_type": "execute_result"
    }
   ],
   "source": [
    "a = 'one way of writing a string'\n",
    "b = \"another way\"\n",
    "c = \"\"\"\n",
    "This is a longer string that\n",
    "spans multiple lines\n",
    "\"\"\"\n",
    "a\n",
    "b\n",
    "c\n",
    "# 许多Python对象都可以通过str函数转换为字符串\n",
    "a = 5.6\n",
    "str(a)\n",
    "# 由于字符串其实是一串字符序列，因此可以被当做某种序列类型\n",
    "list(b)\n",
    "tuple(b)\n",
    "\n",
    "# \\是转义符\n",
    "s = '12\\\\34'\n",
    "print s\n",
    "# 在字符串左边加上r，可以让所有字符按照原本的样子进行解释\n",
    "s = r'this\\has\\n\\no'\n",
    "print s\n",
    "# 两个字符串加起来会产生一个新的字符串\n",
    "s+s\n",
    "# 以一个%开头且后面跟着一个或多个格式字符的字符串是需要插入值的目标\n",
    "temp = '%.2f %s are worth $%d'\n",
    "temp % (4.323,'fsfsdf',11)"
   ]
  },
  {
   "cell_type": "markdown",
   "metadata": {},
   "source": [
    "#### 集合\n",
    "    集合是由唯一元素组成的无序集"
   ]
  },
  {
   "cell_type": "code",
   "execution_count": 3,
   "metadata": {},
   "outputs": [
    {
     "data": {
      "text/plain": [
       "{2, 11, 21}"
      ]
     },
     "execution_count": 3,
     "metadata": {},
     "output_type": "execute_result"
    }
   ],
   "source": [
    "set([2,2,2,21,11])"
   ]
  },
  {
   "cell_type": "markdown",
   "metadata": {},
   "source": [
    "#### 集合运算\n",
    "* a.add(b) 将元素x添加到a中\n",
    "* a.remove(b) 将b从a中删除\n",
    "* a.union(b) / a|b a和b全部的唯一元素\n",
    "* a & b a和b都有的元素\n",
    "* a - b a中不属于b的元素\n",
    "* a ^ b a或b中不同时属于a和b的元素\n",
    "* a.issubset(b) 如果a的全部元素都包含于b，则为true\n",
    "* a.issuperset(b) 如果b的全部元素都包含于a，则为true\n",
    "* a.isdisjoint(b) 如果a和b没有公共元素，则为true"
   ]
  },
  {
   "cell_type": "markdown",
   "metadata": {},
   "source": [
    "### 列表推导式\n",
    "    [expr for val in collection if condition]\n",
    "    =\n",
    "    result = []\n",
    "    for val in collection:\n",
    "        if condition:\n",
    "            result.append(expr)\n",
    "    过滤条件可以省略"
   ]
  },
  {
   "cell_type": "code",
   "execution_count": 8,
   "metadata": {},
   "outputs": [
    {
     "data": {
      "text/plain": [
       "['A', 'FSDF', 'FIONA', 'BAT', 'CAT', 'DOG']"
      ]
     },
     "execution_count": 8,
     "metadata": {},
     "output_type": "execute_result"
    },
    {
     "data": {
      "text/plain": [
       "['FSDF', 'FIONA', 'BAT', 'CAT', 'DOG']"
      ]
     },
     "execution_count": 8,
     "metadata": {},
     "output_type": "execute_result"
    }
   ],
   "source": [
    "strings = ['a','fsdf','fiona','bat','cat','dog']\n",
    "[x.upper() for x in strings]\n",
    "[x.upper() for x in strings if len(x) > 2]"
   ]
  },
  {
   "cell_type": "markdown",
   "metadata": {},
   "source": [
    "### 字典推导式\n",
    "    dict_comp = {key-expr:value-expr for value in collection if condition}\n",
    "### 集合推导式（类似于列表，把[]改成{}）\n",
    "    {expr for val in collection if condition}"
   ]
  },
  {
   "cell_type": "code",
   "execution_count": 15,
   "metadata": {},
   "outputs": [
    {
     "data": {
      "text/plain": [
       "{1, 3, 4, 5}"
      ]
     },
     "execution_count": 15,
     "metadata": {},
     "output_type": "execute_result"
    },
    {
     "data": {
      "text/plain": [
       "{'a': 0, 'bat': 3, 'cat': 4, 'dog': 5, 'fiona': 2, 'fsdf': 1}"
      ]
     },
     "execution_count": 15,
     "metadata": {},
     "output_type": "execute_result"
    }
   ],
   "source": [
    "{len(x) for x in strings}\n",
    "{x:index for index,x in enumerate(strings)}"
   ]
  },
  {
   "cell_type": "markdown",
   "metadata": {},
   "source": [
    "### 函数\n",
    "    用def声明，用return关键字返回\n",
    "    如果没有return，则返回None\n",
    "### 可以返回多个值"
   ]
  },
  {
   "cell_type": "code",
   "execution_count": 18,
   "metadata": {},
   "outputs": [
    {
     "data": {
      "text/plain": [
       "'a'"
      ]
     },
     "execution_count": 18,
     "metadata": {},
     "output_type": "execute_result"
    },
    {
     "data": {
      "text/plain": [
       "'c'"
      ]
     },
     "execution_count": 18,
     "metadata": {},
     "output_type": "execute_result"
    },
    {
     "data": {
      "text/plain": [
       "'b'"
      ]
     },
     "execution_count": 18,
     "metadata": {},
     "output_type": "execute_result"
    }
   ],
   "source": [
    "def f():\n",
    "    a = 1\n",
    "    b = 2\n",
    "    c = 3\n",
    "    return {'a':a,'b':b,\"c\":c}\n",
    "a,b,c = f()\n",
    "a\n",
    "b\n",
    "c"
   ]
  },
  {
   "cell_type": "code",
   "execution_count": 24,
   "metadata": {},
   "outputs": [
    {
     "data": {
      "text/plain": [
       "['Alabama', 'Georgial', 'Geogia', 'Florida', 'Southcarolina']"
      ]
     },
     "execution_count": 24,
     "metadata": {},
     "output_type": "execute_result"
    },
    {
     "ename": "TypeError",
     "evalue": "'function' object is not iterable",
     "output_type": "error",
     "traceback": [
      "\u001b[1;31m---------------------------------------------------------------------------\u001b[0m",
      "\u001b[1;31mTypeError\u001b[0m                                 Traceback (most recent call last)",
      "\u001b[1;32m<ipython-input-24-cdf197f3a06c>\u001b[0m in \u001b[0;36m<module>\u001b[1;34m()\u001b[0m\n\u001b[0;32m     22\u001b[0m     \u001b[1;32mreturn\u001b[0m \u001b[0mresult\u001b[0m\u001b[1;33m\u001b[0m\u001b[0m\n\u001b[0;32m     23\u001b[0m \u001b[1;33m\u001b[0m\u001b[0m\n\u001b[1;32m---> 24\u001b[1;33m \u001b[0mclean_string\u001b[0m\u001b[1;33m(\u001b[0m\u001b[0mclean_ops\u001b[0m\u001b[1;33m,\u001b[0m\u001b[0mremove_puctuation\u001b[0m\u001b[1;33m)\u001b[0m\u001b[1;33m\u001b[0m\u001b[0m\n\u001b[0m",
      "\u001b[1;32m<ipython-input-24-cdf197f3a06c>\u001b[0m in \u001b[0;36mclean_string\u001b[1;34m(string, ops)\u001b[0m\n\u001b[0;32m     17\u001b[0m     \u001b[0mresult\u001b[0m \u001b[1;33m=\u001b[0m \u001b[1;33m[\u001b[0m\u001b[1;33m]\u001b[0m\u001b[1;33m\u001b[0m\u001b[0m\n\u001b[0;32m     18\u001b[0m     \u001b[1;32mfor\u001b[0m \u001b[0mvalue\u001b[0m \u001b[1;32min\u001b[0m \u001b[0mstring\u001b[0m\u001b[1;33m:\u001b[0m\u001b[1;33m\u001b[0m\u001b[0m\n\u001b[1;32m---> 19\u001b[1;33m         \u001b[1;32mfor\u001b[0m \u001b[0mfunction1\u001b[0m \u001b[1;32min\u001b[0m \u001b[0mops\u001b[0m\u001b[1;33m:\u001b[0m\u001b[1;33m\u001b[0m\u001b[0m\n\u001b[0m\u001b[0;32m     20\u001b[0m             \u001b[0mvalue\u001b[0m \u001b[1;33m=\u001b[0m \u001b[0mfunction1\u001b[0m\u001b[1;33m(\u001b[0m\u001b[0mvalue\u001b[0m\u001b[1;33m)\u001b[0m\u001b[1;33m\u001b[0m\u001b[0m\n\u001b[0;32m     21\u001b[0m         \u001b[0mresult\u001b[0m\u001b[1;33m.\u001b[0m\u001b[0mappend\u001b[0m\u001b[1;33m(\u001b[0m\u001b[0mvalue\u001b[0m\u001b[1;33m)\u001b[0m\u001b[1;33m\u001b[0m\u001b[0m\n",
      "\u001b[1;31mTypeError\u001b[0m: 'function' object is not iterable"
     ]
    }
   ],
   "source": [
    "states = [' Alabama','Georgial!','geogia','FlOrIda','south carolina##']\n",
    "import re\n",
    "def strip(strings):\n",
    "    result = []\n",
    "    for value in strings:\n",
    "        value = value.strip()\n",
    "        value = re.sub('[! #]','',value)\n",
    "        value = value.title()\n",
    "        result.append(value)\n",
    "    return result\n",
    "strip(states)\n",
    "\n",
    "def remove_puctuation(value):\n",
    "    return re.sub('[! #]','',value)\n",
    "clean_ops = [str.strip,remove_puctuation,str.title]\n",
    "def clean_string(string,ops):\n",
    "    result = []\n",
    "    for value in string:\n",
    "        for function1 in ops:\n",
    "            value = function1(value)\n",
    "        result.append(value)\n",
    "    return result\n",
    "\n",
    "clean_string(clean_ops,remove_puctuation)"
   ]
  },
  {
   "cell_type": "markdown",
   "metadata": {},
   "source": [
    "### 匿名函数（lambda函数）\n",
    "该语句的结果就是返回值\n",
    "如 lambda x: x**2"
   ]
  },
  {
   "cell_type": "markdown",
   "metadata": {},
   "source": [
    "### 闭包：由其他函数动态生成并返回的函数"
   ]
  },
  {
   "cell_type": "code",
   "execution_count": 30,
   "metadata": {},
   "outputs": [],
   "source": [
    "def make_closure(a):\n",
    "    def closure():\n",
    "        print('%d'%a)\n",
    "    return closure\n",
    "\n",
    "closure = make_closure(5)"
   ]
  },
  {
   "cell_type": "markdown",
   "metadata": {},
   "source": [
    "### 函数参数\n",
    "func(a,b,c=some) a,b 为位置参数，c是关键字参数  \n",
    "其实在内部是被打包成元组和字典的"
   ]
  },
  {
   "cell_type": "markdown",
   "metadata": {},
   "source": [
    "### 生成器\n",
    "比如对字典进行迭代可以得到其所有的键  \n",
    "生成器是构造新的可迭代对象的一种简单方式。一般的函数执行之后只会返回单个值，而生成器则是以延迟的方式返回一个值序列，即每返回一个值之后暂停，直到下一个值被请求时再继续  \n",
    "要创建一个生成器，只需将函数中的return替换成yeild即可"
   ]
  },
  {
   "cell_type": "code",
   "execution_count": 32,
   "metadata": {},
   "outputs": [
    {
     "data": {
      "text/plain": [
       "<generator object squares at 0x098F5170>"
      ]
     },
     "execution_count": 32,
     "metadata": {},
     "output_type": "execute_result"
    },
    {
     "name": "stdout",
     "output_type": "stream",
     "text": [
      "genearting squares from 1 to 100\n",
      "1\n",
      "4\n",
      "9\n",
      "16\n",
      "25\n",
      "36\n",
      "49\n",
      "64\n",
      "81\n",
      "100\n"
     ]
    }
   ],
   "source": [
    "def squares(n=10):\n",
    "    print 'genearting squares from 1 to %d'%(n**2)\n",
    "    for i in xrange(1,n+1):\n",
    "        yield i**2\n",
    "gen = squares()\n",
    "gen\n",
    "for x in gen:\n",
    "    print x"
   ]
  }
 ],
 "metadata": {
  "kernelspec": {
   "display_name": "Python 2",
   "language": "python",
   "name": "python2"
  },
  "language_info": {
   "codemirror_mode": {
    "name": "ipython",
    "version": 2
   },
   "file_extension": ".py",
   "mimetype": "text/x-python",
   "name": "python",
   "nbconvert_exporter": "python",
   "pygments_lexer": "ipython2",
   "version": "2.7.14"
  }
 },
 "nbformat": 4,
 "nbformat_minor": 2
}
